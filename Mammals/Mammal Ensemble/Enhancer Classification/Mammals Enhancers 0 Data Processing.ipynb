{
 "cells": [
  {
   "cell_type": "markdown",
   "metadata": {},
   "source": [
    "# Mammal Enhancers Data Processing\n",
    "\n",
    "This notebook creates the dataset needed to train a classification model on enhancer sequences from several mammalian species.\n",
    "\n",
    "#### Mammalian Enhancer Sequences\n",
    "This dataset uses enhancer sequences related to the paper [Enhancer Identification using Transfer and Adversarial Deep Learning of DNA Sequences](https://www.biorxiv.org/content/biorxiv/early/2018/02/14/264200.full.pdf) by Cohn et al. The data is available from the [Enhancer CNN](https://github.com/cohnDikla/enhancer_CNN) repo. The dataset contains enhancer sequences and negative sequences from 17 different species. For each species, there are 14,000 enhancer sequences and 14,000 negative sequences."
   ]
  },
  {
   "cell_type": "code",
   "execution_count": 1,
   "metadata": {},
   "outputs": [],
   "source": [
    "%reload_ext autoreload\n",
    "%autoreload 2\n",
    "%matplotlib inline"
   ]
  },
  {
   "cell_type": "code",
   "execution_count": 2,
   "metadata": {},
   "outputs": [],
   "source": [
    "from fastai import *\n",
    "from fastai.text import *\n",
    "from Bio import Seq\n",
    "from Bio.Seq import Seq\n",
    "from Bio import SeqIO\n",
    "from Bio.SeqRecord import SeqRecord\n",
    "from Bio.SeqFeature import FeatureLocation, CompoundLocation\n",
    "import networkx as nx"
   ]
  },
  {
   "cell_type": "code",
   "execution_count": 3,
   "metadata": {},
   "outputs": [],
   "source": [
    "sys.path.append(\"../../..\")\n",
    "from utils import *"
   ]
  },
  {
   "cell_type": "code",
   "execution_count": 4,
   "metadata": {},
   "outputs": [],
   "source": [
    "path = Path('F:/genome/mammals/')"
   ]
  },
  {
   "cell_type": "code",
   "execution_count": 5,
   "metadata": {},
   "outputs": [
    {
     "data": {
      "text/plain": [
       "['Cat',\n",
       " 'Cow',\n",
       " 'Dog',\n",
       " 'Dolphin',\n",
       " 'Ferret',\n",
       " 'Guinea_pig',\n",
       " 'Human',\n",
       " 'Macaque',\n",
       " 'Marmoset',\n",
       " 'Mouse',\n",
       " 'Naked_mole_rat',\n",
       " 'Opossum',\n",
       " 'Pig',\n",
       " 'Rabbit',\n",
       " 'Rat',\n",
       " 'Tasmanian_devil',\n",
       " 'Tree_shrew']"
      ]
     },
     "execution_count": 5,
     "metadata": {},
     "output_type": "execute_result"
    }
   ],
   "source": [
    "organisms = [i for i in os.listdir(path/'enhancers') if not 'peaks' in i]\n",
    "organisms"
   ]
  },
  {
   "cell_type": "code",
   "execution_count": 6,
   "metadata": {},
   "outputs": [],
   "source": [
    "def partition_data(df):\n",
    "    \n",
    "    train_size = int(len(df)*0.8)\n",
    "    valid_size = int(len(df)*0.9) - train_size\n",
    "    \n",
    "    train_df = df.sample(train_size)\n",
    "    test_val = df.drop(train_df.index)\n",
    "    valid_df = test_val.sample(valid_size)\n",
    "    test_df = test_val.drop(valid_df.index)\n",
    "    train_df['set'] = 'train'\n",
    "    valid_df['set'] = 'valid'\n",
    "    test_df['set'] = 'test'\n",
    "    \n",
    "    return (train_df, valid_df, test_df)"
   ]
  },
  {
   "cell_type": "code",
   "execution_count": 7,
   "metadata": {},
   "outputs": [],
   "source": [
    "fname1 = 'positive_samples'\n",
    "fname2 = 'negative_samples'"
   ]
  },
  {
   "cell_type": "code",
   "execution_count": 8,
   "metadata": {},
   "outputs": [],
   "source": [
    "trains = []\n",
    "vals = []\n",
    "tests = []\n",
    "\n",
    "for organism in organisms:\n",
    "    for fname in [fname1, fname2]:\n",
    "        file = open(path/'enhancers'/organism/fname)\n",
    "        seqs = [i.strip('\\n') for i in file if set(i.strip('\\n').upper()) == set('ATGC')]\n",
    "        df = pd.DataFrame(seqs, columns=['Sequence'])\n",
    "        df['Enhancer'] = fname.split('_')[0]\n",
    "        df['Organism'] = organism\n",
    "\n",
    "        train, val, test = partition_data(df)\n",
    "        trains.append(train)\n",
    "        vals.append(val)\n",
    "        tests.append(test)"
   ]
  },
  {
   "cell_type": "code",
   "execution_count": 9,
   "metadata": {},
   "outputs": [],
   "source": [
    "train_df = pd.concat(trains)\n",
    "valid_df = pd.concat(vals)\n",
    "test_df = pd.concat(tests)\n",
    "data_df = pd.concat([train_df, valid_df, test_df])"
   ]
  },
  {
   "cell_type": "code",
   "execution_count": 10,
   "metadata": {},
   "outputs": [
    {
     "data": {
      "text/plain": [
       "(475995, 4)"
      ]
     },
     "execution_count": 10,
     "metadata": {},
     "output_type": "execute_result"
    }
   ],
   "source": [
    "data_df.shape"
   ]
  },
  {
   "cell_type": "code",
   "execution_count": 11,
   "metadata": {},
   "outputs": [
    {
     "data": {
      "text/plain": [
       "Rat                28000\n",
       "Dolphin            28000\n",
       "Ferret             28000\n",
       "Naked_mole_rat     28000\n",
       "Guinea_pig         28000\n",
       "Marmoset           28000\n",
       "Rabbit             28000\n",
       "Cat                28000\n",
       "Pig                28000\n",
       "Tasmanian_devil    28000\n",
       "Human              28000\n",
       "Dog                28000\n",
       "Tree_shrew         28000\n",
       "Mouse              27999\n",
       "Opossum            27999\n",
       "Macaque            27999\n",
       "Cow                27998\n",
       "Name: Organism, dtype: int64"
      ]
     },
     "execution_count": 11,
     "metadata": {},
     "output_type": "execute_result"
    }
   ],
   "source": [
    "data_df.Organism.value_counts()"
   ]
  },
  {
   "cell_type": "code",
   "execution_count": 14,
   "metadata": {},
   "outputs": [],
   "source": [
    "data_df.reset_index(inplace=True, drop=True)"
   ]
  },
  {
   "cell_type": "code",
   "execution_count": 15,
   "metadata": {},
   "outputs": [],
   "source": [
    "data_df.to_csv(path/'enhancer_data.csv', index=False)"
   ]
  }
 ],
 "metadata": {
  "kernelspec": {
   "display_name": "Python 3",
   "language": "python",
   "name": "python3"
  },
  "language_info": {
   "codemirror_mode": {
    "name": "ipython",
    "version": 3
   },
   "file_extension": ".py",
   "mimetype": "text/x-python",
   "name": "python",
   "nbconvert_exporter": "python",
   "pygments_lexer": "ipython3",
   "version": "3.7.2"
  }
 },
 "nbformat": 4,
 "nbformat_minor": 2
}
