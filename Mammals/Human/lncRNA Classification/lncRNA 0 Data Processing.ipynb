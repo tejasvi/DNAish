{
 "cells": [
  {
   "cell_type": "markdown",
   "metadata": {},
   "source": [
    "# Human lncRNA Classification Data\n",
    "\n",
    "This notebook creates the dataset needed to train a classification model on human coding mRNA sequences vs long noncoding RNA (lncRNA) sequences.\n",
    "\n",
    "#### lncRNA Data\n",
    "This dataset comes from the paper [A deep recurrent neural network discovers complex biological rules to decipher RNA protein-coding potential](https://www.ncbi.nlm.nih.gov/pmc/articles/PMC6144860/) by Hill et al. and is available for download [here](https://osf.io/4htpy/). \n",
    "\n",
    "Several data files are used.\n",
    "\n",
    "__mRNAs.TRAIN.fa__ and __lncRNAs.TRAIN.fa__ contain long transcript examples of coding mRNA and lncRNA sequences.\n",
    "\n",
    "__mRNAs.train16K.fa__ and __lncRNAs.train16K.fa__ are samples of the above datasets screened for sequences between 200 and 1000 bp in length\n",
    "\n",
    "__mRNAs.TEST500.fa__ and __lncRNAs.TEST500.fa__ contain the test set\n",
    "\n",
    "__mRNAs.CHALLENGE500.fa__ and __lncRNAs.CHALLENGE500.fa__ contain an additional challenge test set"
   ]
  },
  {
   "cell_type": "code",
   "execution_count": 1,
   "metadata": {},
   "outputs": [],
   "source": [
    "%reload_ext autoreload\n",
    "%autoreload 2\n",
    "%matplotlib inline"
   ]
  },
  {
   "cell_type": "code",
   "execution_count": 2,
   "metadata": {},
   "outputs": [],
   "source": [
    "from fastai import *\n",
    "from fastai.text import *\n",
    "from Bio import Seq\n",
    "from Bio.Seq import Seq\n",
    "from Bio import SeqIO\n",
    "from Bio.SeqRecord import SeqRecord\n",
    "from Bio.SeqFeature import FeatureLocation, CompoundLocation\n",
    "import networkx as nx"
   ]
  },
  {
   "cell_type": "code",
   "execution_count": 3,
   "metadata": {},
   "outputs": [],
   "source": [
    "sys.path.append(\"../../..\")\n",
    "from utils import *"
   ]
  },
  {
   "cell_type": "code",
   "execution_count": 4,
   "metadata": {},
   "outputs": [],
   "source": [
    "path = Path('F:/genome/human/')"
   ]
  },
  {
   "cell_type": "markdown",
   "metadata": {},
   "source": [
    "# Size selected data\n",
    "\n",
    "This builds a dataset from the __train16k__ files"
   ]
  },
  {
   "cell_type": "code",
   "execution_count": 5,
   "metadata": {},
   "outputs": [],
   "source": [
    "mrna = 'lncRNA/mRNAs.train16K.fa'\n",
    "incrna = 'lncRNA/lncRNAs.train16K.fa'\n",
    "\n",
    "mrna_test = 'lncRNA/mRNAs.TEST500.fa'\n",
    "incrna_test = 'lncRNA/lncRNAs.TEST500.fa'\n",
    "\n",
    "mrna_challenge = 'lncRNA/mRNAs.CHALLENGE500.fa'\n",
    "incrna_challenge = 'lncRNA/lncRNAs.CHALLENGE500.fa'"
   ]
  },
  {
   "cell_type": "code",
   "execution_count": null,
   "metadata": {},
   "outputs": [],
   "source": []
  },
  {
   "cell_type": "code",
   "execution_count": 5,
   "metadata": {},
   "outputs": [],
   "source": [
    "def parse_fasta(filename, label):\n",
    "    fasta = SeqIO.parse(path/filename, 'fasta')\n",
    "    fs = [i for i in fasta]\n",
    "    seqs = [str(i.seq) for i in fs]\n",
    "    df = pd.DataFrame(seqs, columns=['Sequence'])\n",
    "    df['Target'] = label\n",
    "    df = df.drop_duplicates()\n",
    "    return df"
   ]
  },
  {
   "cell_type": "code",
   "execution_count": 6,
   "metadata": {},
   "outputs": [],
   "source": [
    "def partition_data(df):\n",
    "    \n",
    "    train_size = int(len(df)*0.90)\n",
    "    valid_size = int(len(df)) - train_size\n",
    "    \n",
    "    train_df = df.sample(train_size)\n",
    "    valid_df = df.drop(train_df.index)\n",
    "    \n",
    "    train_df['set'] = 'train'\n",
    "    valid_df['set'] = 'valid'\n",
    "    \n",
    "    return pd.concat([train_df, valid_df])"
   ]
  },
  {
   "cell_type": "code",
   "execution_count": null,
   "metadata": {},
   "outputs": [],
   "source": []
  },
  {
   "cell_type": "code",
   "execution_count": 8,
   "metadata": {},
   "outputs": [],
   "source": [
    "mrna_df = partition_data(parse_fasta(mrna, 'mRNA'))\n",
    "incrna_df = partition_data(parse_fasta(incrna, 'lncRNA'))\n",
    "\n",
    "mrna_testdf = parse_fasta(mrna_test, 'mRNA')\n",
    "mrna_testdf['set'] = 'test'\n",
    "incrna_testdf = parse_fasta(incrna_test, 'lncRNA')\n",
    "incrna_testdf['set'] = 'test'\n",
    "\n",
    "mrna_challengedf = parse_fasta(mrna_challenge, 'mRNA')\n",
    "mrna_challengedf['set'] = 'test_challenge'\n",
    "incrna_challengedf = parse_fasta(incrna_challenge, 'lncRNA')\n",
    "incrna_challengedf['set'] = 'test_challenge'"
   ]
  },
  {
   "cell_type": "code",
   "execution_count": 9,
   "metadata": {},
   "outputs": [],
   "source": [
    "dfs = [mrna_df, incrna_df, mrna_testdf, incrna_testdf, mrna_challengedf, incrna_challengedf]"
   ]
  },
  {
   "cell_type": "code",
   "execution_count": 10,
   "metadata": {},
   "outputs": [
    {
     "data": {
      "text/plain": [
       "[(15978, 3), (15950, 3), (500, 3), (500, 3), (499, 3), (500, 3)]"
      ]
     },
     "execution_count": 10,
     "metadata": {},
     "output_type": "execute_result"
    }
   ],
   "source": [
    "[i.shape for i in dfs]"
   ]
  },
  {
   "cell_type": "code",
   "execution_count": 11,
   "metadata": {},
   "outputs": [],
   "source": [
    "data_df = pd.concat(dfs)"
   ]
  },
  {
   "cell_type": "code",
   "execution_count": 12,
   "metadata": {},
   "outputs": [
    {
     "data": {
      "text/html": [
       "<div>\n",
       "<style scoped>\n",
       "    .dataframe tbody tr th:only-of-type {\n",
       "        vertical-align: middle;\n",
       "    }\n",
       "\n",
       "    .dataframe tbody tr th {\n",
       "        vertical-align: top;\n",
       "    }\n",
       "\n",
       "    .dataframe thead th {\n",
       "        text-align: right;\n",
       "    }\n",
       "</style>\n",
       "<table border=\"1\" class=\"dataframe\">\n",
       "  <thead>\n",
       "    <tr style=\"text-align: right;\">\n",
       "      <th></th>\n",
       "      <th>Sequence</th>\n",
       "      <th>Target</th>\n",
       "      <th>set</th>\n",
       "    </tr>\n",
       "  </thead>\n",
       "  <tbody>\n",
       "    <tr>\n",
       "      <th>6704</th>\n",
       "      <td>GCTCAGCATTTGGGGACGCTCTCAGCTCTCGGCGCACGGCCCAGGT...</td>\n",
       "      <td>mRNA</td>\n",
       "      <td>train</td>\n",
       "    </tr>\n",
       "    <tr>\n",
       "      <th>4382</th>\n",
       "      <td>GTGACGCGCAAGCCTGGGCCGCTCCTCCTTCCCTCACCCGACGGCC...</td>\n",
       "      <td>mRNA</td>\n",
       "      <td>train</td>\n",
       "    </tr>\n",
       "    <tr>\n",
       "      <th>8479</th>\n",
       "      <td>ATAGGTATGATCTCGTGAAATCTTGAGAGAAACTGAATGACGAATG...</td>\n",
       "      <td>mRNA</td>\n",
       "      <td>train</td>\n",
       "    </tr>\n",
       "    <tr>\n",
       "      <th>10611</th>\n",
       "      <td>AGATTCAGGCGTGTAAACCAGCCGGAGCGGCGCGGCAGCGGCAGGA...</td>\n",
       "      <td>mRNA</td>\n",
       "      <td>train</td>\n",
       "    </tr>\n",
       "    <tr>\n",
       "      <th>8735</th>\n",
       "      <td>GTAGAGGGCTGTACCTTTTTGGCGCTGTGGAAGCCGTTGCTGTGCT...</td>\n",
       "      <td>mRNA</td>\n",
       "      <td>train</td>\n",
       "    </tr>\n",
       "  </tbody>\n",
       "</table>\n",
       "</div>"
      ],
      "text/plain": [
       "                                                Sequence Target    set\n",
       "6704   GCTCAGCATTTGGGGACGCTCTCAGCTCTCGGCGCACGGCCCAGGT...   mRNA  train\n",
       "4382   GTGACGCGCAAGCCTGGGCCGCTCCTCCTTCCCTCACCCGACGGCC...   mRNA  train\n",
       "8479   ATAGGTATGATCTCGTGAAATCTTGAGAGAAACTGAATGACGAATG...   mRNA  train\n",
       "10611  AGATTCAGGCGTGTAAACCAGCCGGAGCGGCGCGGCAGCGGCAGGA...   mRNA  train\n",
       "8735   GTAGAGGGCTGTACCTTTTTGGCGCTGTGGAAGCCGTTGCTGTGCT...   mRNA  train"
      ]
     },
     "execution_count": 12,
     "metadata": {},
     "output_type": "execute_result"
    }
   ],
   "source": [
    "data_df.head()"
   ]
  },
  {
   "cell_type": "code",
   "execution_count": 13,
   "metadata": {},
   "outputs": [],
   "source": [
    "data_df.to_csv(path/'lncRNA_data.csv', index=False)"
   ]
  },
  {
   "cell_type": "markdown",
   "metadata": {},
   "source": [
    "# Long read data\n",
    "\n",
    "This builds a dataset from the full length sequence files"
   ]
  },
  {
   "cell_type": "code",
   "execution_count": 7,
   "metadata": {},
   "outputs": [],
   "source": [
    "mrna = 'lncRNA/mRNAs.TRAIN.fa'\n",
    "incrna = 'lncRNA/lncRNAs.TRAIN.fa'\n",
    "\n",
    "mrna_test = 'lncRNA/mRNAs.TEST500.fa'\n",
    "incrna_test = 'lncRNA/lncRNAs.TEST500.fa'\n",
    "\n",
    "mrna_challenge = 'lncRNA/mRNAs.CHALLENGE500.fa'\n",
    "incrna_challenge = 'lncRNA/lncRNAs.CHALLENGE500.fa'"
   ]
  },
  {
   "cell_type": "code",
   "execution_count": 8,
   "metadata": {},
   "outputs": [],
   "source": [
    "mrna_df = partition_data(parse_fasta(mrna, 'mRNA'))\n",
    "incrna_df = partition_data(parse_fasta(incrna, 'lncRNA'))\n",
    "\n",
    "mrna_testdf = parse_fasta(mrna_test, 'mRNA')\n",
    "mrna_testdf['set'] = 'test'\n",
    "incrna_testdf = parse_fasta(incrna_test, 'lncRNA')\n",
    "incrna_testdf['set'] = 'test'\n",
    "\n",
    "mrna_challengedf = parse_fasta(mrna_challenge, 'mRNA')\n",
    "mrna_challengedf['set'] = 'test_challenge'\n",
    "incrna_challengedf = parse_fasta(incrna_challenge, 'lncRNA')\n",
    "incrna_challengedf['set'] = 'test_challenge'"
   ]
  },
  {
   "cell_type": "code",
   "execution_count": 9,
   "metadata": {},
   "outputs": [],
   "source": [
    "dfs = [mrna_df, incrna_df, mrna_testdf, incrna_testdf, mrna_challengedf, incrna_challengedf]"
   ]
  },
  {
   "cell_type": "code",
   "execution_count": 10,
   "metadata": {},
   "outputs": [
    {
     "data": {
      "text/plain": [
       "[(86978, 3), (24339, 3), (500, 3), (500, 3), (499, 3), (500, 3)]"
      ]
     },
     "execution_count": 10,
     "metadata": {},
     "output_type": "execute_result"
    }
   ],
   "source": [
    "[i.shape for i in dfs]"
   ]
  },
  {
   "cell_type": "code",
   "execution_count": 11,
   "metadata": {},
   "outputs": [],
   "source": [
    "data_df = pd.concat(dfs)"
   ]
  },
  {
   "cell_type": "code",
   "execution_count": 12,
   "metadata": {},
   "outputs": [
    {
     "data": {
      "text/html": [
       "<div>\n",
       "<style scoped>\n",
       "    .dataframe tbody tr th:only-of-type {\n",
       "        vertical-align: middle;\n",
       "    }\n",
       "\n",
       "    .dataframe tbody tr th {\n",
       "        vertical-align: top;\n",
       "    }\n",
       "\n",
       "    .dataframe thead th {\n",
       "        text-align: right;\n",
       "    }\n",
       "</style>\n",
       "<table border=\"1\" class=\"dataframe\">\n",
       "  <thead>\n",
       "    <tr style=\"text-align: right;\">\n",
       "      <th></th>\n",
       "      <th>Sequence</th>\n",
       "      <th>Target</th>\n",
       "      <th>set</th>\n",
       "    </tr>\n",
       "  </thead>\n",
       "  <tbody>\n",
       "    <tr>\n",
       "      <th>76980</th>\n",
       "      <td>AGACCGCGGTGACGTCTCCACCGCGCCAAACTCACTGAAAATCAAA...</td>\n",
       "      <td>mRNA</td>\n",
       "      <td>train</td>\n",
       "    </tr>\n",
       "    <tr>\n",
       "      <th>22459</th>\n",
       "      <td>TAGCACACATTTACGCTCGCCTGCCGCGGGCCGCTCTCCGTGCTGG...</td>\n",
       "      <td>mRNA</td>\n",
       "      <td>train</td>\n",
       "    </tr>\n",
       "    <tr>\n",
       "      <th>26784</th>\n",
       "      <td>CCCCTCGCGCCGGGAGGAGCTGGCGGCGAGCGCCGAGCCGGGCGCG...</td>\n",
       "      <td>mRNA</td>\n",
       "      <td>train</td>\n",
       "    </tr>\n",
       "    <tr>\n",
       "      <th>34361</th>\n",
       "      <td>GGCGGGGCGCGGCGGTTCCGGCCCAGCCATGGCGGACGAGGCCCCG...</td>\n",
       "      <td>mRNA</td>\n",
       "      <td>train</td>\n",
       "    </tr>\n",
       "    <tr>\n",
       "      <th>48292</th>\n",
       "      <td>AGTCCTGAGTGCATGCTCTGCGGTCTGGGGTCACCTGGGGTGCTTA...</td>\n",
       "      <td>mRNA</td>\n",
       "      <td>train</td>\n",
       "    </tr>\n",
       "  </tbody>\n",
       "</table>\n",
       "</div>"
      ],
      "text/plain": [
       "                                                Sequence Target    set\n",
       "76980  AGACCGCGGTGACGTCTCCACCGCGCCAAACTCACTGAAAATCAAA...   mRNA  train\n",
       "22459  TAGCACACATTTACGCTCGCCTGCCGCGGGCCGCTCTCCGTGCTGG...   mRNA  train\n",
       "26784  CCCCTCGCGCCGGGAGGAGCTGGCGGCGAGCGCCGAGCCGGGCGCG...   mRNA  train\n",
       "34361  GGCGGGGCGCGGCGGTTCCGGCCCAGCCATGGCGGACGAGGCCCCG...   mRNA  train\n",
       "48292  AGTCCTGAGTGCATGCTCTGCGGTCTGGGGTCACCTGGGGTGCTTA...   mRNA  train"
      ]
     },
     "execution_count": 12,
     "metadata": {},
     "output_type": "execute_result"
    }
   ],
   "source": [
    "data_df.head()"
   ]
  },
  {
   "cell_type": "code",
   "execution_count": 14,
   "metadata": {},
   "outputs": [
    {
     "data": {
      "text/plain": [
       "(113316, 3)"
      ]
     },
     "execution_count": 14,
     "metadata": {},
     "output_type": "execute_result"
    }
   ],
   "source": [
    "data_df.shape"
   ]
  },
  {
   "cell_type": "code",
   "execution_count": 16,
   "metadata": {},
   "outputs": [],
   "source": [
    "data_df = data_df[~data_df.Sequence.map(lambda x: 'N' in x.upper())]"
   ]
  },
  {
   "cell_type": "code",
   "execution_count": 17,
   "metadata": {},
   "outputs": [
    {
     "data": {
      "text/plain": [
       "(113315, 3)"
      ]
     },
     "execution_count": 17,
     "metadata": {},
     "output_type": "execute_result"
    }
   ],
   "source": [
    "data_df.shape"
   ]
  },
  {
   "cell_type": "code",
   "execution_count": 18,
   "metadata": {},
   "outputs": [],
   "source": [
    "data_df.to_csv(path/'lncRNA_data2.csv', index=False)"
   ]
  }
 ],
 "metadata": {
  "kernelspec": {
   "display_name": "Python 3",
   "language": "python",
   "name": "python3"
  },
  "language_info": {
   "codemirror_mode": {
    "name": "ipython",
    "version": 3
   },
   "file_extension": ".py",
   "mimetype": "text/x-python",
   "name": "python",
   "nbconvert_exporter": "python",
   "pygments_lexer": "ipython3",
   "version": "3.7.2"
  }
 },
 "nbformat": 4,
 "nbformat_minor": 2
}
