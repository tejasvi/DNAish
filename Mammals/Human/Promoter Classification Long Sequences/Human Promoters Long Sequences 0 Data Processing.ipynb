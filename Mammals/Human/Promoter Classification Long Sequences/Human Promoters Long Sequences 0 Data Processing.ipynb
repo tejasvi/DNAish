{
 "cells": [
  {
   "cell_type": "markdown",
   "metadata": {},
   "source": [
    "# Human Genome Data Processing\n",
    "\n",
    "This notebook creates the dataset needed to train a classification model on long promoter sequences from the human genome\n",
    "\n",
    "#### Human Promoter Classification Long\n",
    "This dataset will be constructed following the methods presented in [PromID: Human Promoter Prediction by Deep Learning](https://arxiv.org/pdf/1810.01414.pdf). (I could not find the exact dataset, else I would use it). The dataset will be constructed by taking TSS sites listed in the [EPDnew Database](ftp://ccg.vital-it.ch/epdnew/human/006/), locating these regions in the [NCBI Homo sapiens reference genome](https://www.ncbi.nlm.nih.gov/genome/51) and taking the sequence -500/500 around the TSS site. This is a more difficult classification problem, but also more representitive of how promoter classification would be used in a real setting."
   ]
  },
  {
   "cell_type": "code",
   "execution_count": 1,
   "metadata": {},
   "outputs": [],
   "source": [
    "%reload_ext autoreload\n",
    "%autoreload 2\n",
    "%matplotlib inline"
   ]
  },
  {
   "cell_type": "code",
   "execution_count": 2,
   "metadata": {},
   "outputs": [],
   "source": [
    "from fastai import *\n",
    "from fastai.text import *\n",
    "from Bio import Seq\n",
    "from Bio.Seq import Seq\n",
    "from Bio import SeqIO\n",
    "from Bio.SeqRecord import SeqRecord\n",
    "from Bio.SeqFeature import FeatureLocation, CompoundLocation\n",
    "import networkx as nx"
   ]
  },
  {
   "cell_type": "code",
   "execution_count": 3,
   "metadata": {},
   "outputs": [],
   "source": [
    "sys.path.append(\"../../..\")\n",
    "from utils import *"
   ]
  },
  {
   "cell_type": "code",
   "execution_count": 4,
   "metadata": {},
   "outputs": [],
   "source": [
    "path = Path('F:/genome/human/')"
   ]
  },
  {
   "cell_type": "markdown",
   "metadata": {},
   "source": [
    "# Long Sequences Classification Data\n",
    "\n",
    "This section extracts promoters from TSS sites in the EPDnew dataset. Promoters will be -500/500 from the TSS site. Negative examples will be randomly taken from regions between TSS sites. Similar to the PromID paper, 10% of the data will be used for testing. Of the remaining 90%, 10% of that will be used for validation."
   ]
  },
  {
   "cell_type": "code",
   "execution_count": 5,
   "metadata": {},
   "outputs": [],
   "source": [
    "fname = 'GCF_000001405.38_GRCh38.p12_genomic.gbff'"
   ]
  },
  {
   "cell_type": "code",
   "execution_count": 6,
   "metadata": {},
   "outputs": [],
   "source": [
    "promoter_reference = pd.read_csv(path/'Hs_EPDnew_006_hg38.sga', sep='\\t', \n",
    "                                header=None, names=['Ref', 'TSS', 'Location', 'Strand', 'V', 'Name'])\n",
    "promoter_reference.drop('V', inplace=True, axis=1)"
   ]
  },
  {
   "cell_type": "code",
   "execution_count": 7,
   "metadata": {},
   "outputs": [
    {
     "data": {
      "text/html": [
       "<div>\n",
       "<style scoped>\n",
       "    .dataframe tbody tr th:only-of-type {\n",
       "        vertical-align: middle;\n",
       "    }\n",
       "\n",
       "    .dataframe tbody tr th {\n",
       "        vertical-align: top;\n",
       "    }\n",
       "\n",
       "    .dataframe thead th {\n",
       "        text-align: right;\n",
       "    }\n",
       "</style>\n",
       "<table border=\"1\" class=\"dataframe\">\n",
       "  <thead>\n",
       "    <tr style=\"text-align: right;\">\n",
       "      <th></th>\n",
       "      <th>Ref</th>\n",
       "      <th>TSS</th>\n",
       "      <th>Location</th>\n",
       "      <th>Strand</th>\n",
       "      <th>Name</th>\n",
       "    </tr>\n",
       "  </thead>\n",
       "  <tbody>\n",
       "    <tr>\n",
       "      <th>0</th>\n",
       "      <td>NC_000001.11</td>\n",
       "      <td>TSS</td>\n",
       "      <td>959256</td>\n",
       "      <td>-</td>\n",
       "      <td>NOC2L_1</td>\n",
       "    </tr>\n",
       "    <tr>\n",
       "      <th>1</th>\n",
       "      <td>NC_000001.11</td>\n",
       "      <td>TSS</td>\n",
       "      <td>960633</td>\n",
       "      <td>+</td>\n",
       "      <td>KLHL17_1</td>\n",
       "    </tr>\n",
       "    <tr>\n",
       "      <th>2</th>\n",
       "      <td>NC_000001.11</td>\n",
       "      <td>TSS</td>\n",
       "      <td>966482</td>\n",
       "      <td>+</td>\n",
       "      <td>PLEKHN1_1</td>\n",
       "    </tr>\n",
       "    <tr>\n",
       "      <th>3</th>\n",
       "      <td>NC_000001.11</td>\n",
       "      <td>TSS</td>\n",
       "      <td>976681</td>\n",
       "      <td>-</td>\n",
       "      <td>PERM1_1</td>\n",
       "    </tr>\n",
       "    <tr>\n",
       "      <th>4</th>\n",
       "      <td>NC_000001.11</td>\n",
       "      <td>TSS</td>\n",
       "      <td>1000097</td>\n",
       "      <td>-</td>\n",
       "      <td>HES4_1</td>\n",
       "    </tr>\n",
       "  </tbody>\n",
       "</table>\n",
       "</div>"
      ],
      "text/plain": [
       "            Ref  TSS  Location Strand       Name\n",
       "0  NC_000001.11  TSS    959256      -    NOC2L_1\n",
       "1  NC_000001.11  TSS    960633      +   KLHL17_1\n",
       "2  NC_000001.11  TSS    966482      +  PLEKHN1_1\n",
       "3  NC_000001.11  TSS    976681      -    PERM1_1\n",
       "4  NC_000001.11  TSS   1000097      -     HES4_1"
      ]
     },
     "execution_count": 7,
     "metadata": {},
     "output_type": "execute_result"
    }
   ],
   "source": [
    "promoter_reference.head()"
   ]
  },
  {
   "cell_type": "code",
   "execution_count": 9,
   "metadata": {},
   "outputs": [],
   "source": [
    "chroms = [GB for GB in SeqIO.parse(path/fname, \"genbank\") if GB.id in promoter_reference.Ref.unique()]"
   ]
  },
  {
   "cell_type": "code",
   "execution_count": null,
   "metadata": {},
   "outputs": [],
   "source": []
  },
  {
   "cell_type": "code",
   "execution_count": 10,
   "metadata": {},
   "outputs": [],
   "source": [
    "def extract_promoter(loc, orient, GB_file):\n",
    "    start = loc - 500\n",
    "    end = loc + 500\n",
    "    promoter = GB_file[start:end]\n",
    "    \n",
    "    if orient == '-':\n",
    "        promoter = promoter.reverse_complement()\n",
    "        \n",
    "    promoter = promoter.seq.__str__()\n",
    "    \n",
    "    if not 'N' in promoter:\n",
    "        return promoter\n",
    "    else:\n",
    "        return None"
   ]
  },
  {
   "cell_type": "code",
   "execution_count": 11,
   "metadata": {},
   "outputs": [],
   "source": [
    "def chromosome_to_promoter(GB, df):\n",
    "    ref = GB.id\n",
    "    data = df[df.Ref == ref].copy()\n",
    "    if len(data) > 0:\n",
    "        data['Sequence'] = data.apply(lambda x: extract_promoter(x['Location'], x['Strand'], GB), axis=1)\n",
    "        return data"
   ]
  },
  {
   "cell_type": "code",
   "execution_count": 12,
   "metadata": {},
   "outputs": [],
   "source": [
    "def chromosome_to_negative(GB, df):\n",
    "    ref = GB.id\n",
    "    data = df[df.Ref == ref].copy()\n",
    "    if len(data) > 0:\n",
    "        output = [get_negative(data, i, GB) for i in range(1, len(data)-1)]\n",
    "        output = [i for i in output if not type(i) == type(None)]\n",
    "        if len(output) > 0:\n",
    "            output = np.concatenate(output)\n",
    "        return output"
   ]
  },
  {
   "cell_type": "code",
   "execution_count": 13,
   "metadata": {},
   "outputs": [],
   "source": [
    "def get_negative(inp_df, i, GB):\n",
    "    seqs = []\n",
    "    tss = inp_df.Location.iloc[i]\n",
    "    prev_tss = inp_df.Location.iloc[i-1]\n",
    "    next_tss = inp_df.Location.iloc[i+1]\n",
    "    \n",
    "    lowlow = prev_tss + 500\n",
    "    lowhigh = tss - 500\n",
    "    \n",
    "    highlow = tss + 500\n",
    "    highhigh = next_tss - 500\n",
    "    \n",
    "    range1 = lowhigh - lowlow\n",
    "    range2 = highhigh - highlow\n",
    "    \n",
    "    if range1 > 1002:\n",
    "        start = np.random.randint(lowlow, lowhigh-1000)\n",
    "        rand_gene = GB[start:start+1000].seq.__str__()\n",
    "        if not 'N' in rand_gene:\n",
    "            seqs.append(rand_gene)\n",
    "            \n",
    "    if range2 > 1002:\n",
    "        start = np.random.randint(highlow, highhigh-1000)\n",
    "        rand_gene = GB[start:start+1000].seq.__str__()\n",
    "        if not 'N' in rand_gene:\n",
    "            seqs.append(rand_gene)\n",
    "            \n",
    "    if len(seqs) > 0:\n",
    "        return np.array(seqs)"
   ]
  },
  {
   "cell_type": "markdown",
   "metadata": {},
   "source": [
    "# Promoters"
   ]
  },
  {
   "cell_type": "code",
   "execution_count": 14,
   "metadata": {},
   "outputs": [],
   "source": [
    "with ThreadPoolExecutor(8) as ex:\n",
    "    outs = ex.map(lambda x: chromosome_to_promoter(x, promoter_reference), chroms)"
   ]
  },
  {
   "cell_type": "code",
   "execution_count": 15,
   "metadata": {},
   "outputs": [],
   "source": [
    "dfs = list(outs)"
   ]
  },
  {
   "cell_type": "code",
   "execution_count": 17,
   "metadata": {},
   "outputs": [],
   "source": [
    "sequences_df = pd.concat(dfs)"
   ]
  },
  {
   "cell_type": "code",
   "execution_count": 18,
   "metadata": {},
   "outputs": [
    {
     "data": {
      "text/html": [
       "<div>\n",
       "<style scoped>\n",
       "    .dataframe tbody tr th:only-of-type {\n",
       "        vertical-align: middle;\n",
       "    }\n",
       "\n",
       "    .dataframe tbody tr th {\n",
       "        vertical-align: top;\n",
       "    }\n",
       "\n",
       "    .dataframe thead th {\n",
       "        text-align: right;\n",
       "    }\n",
       "</style>\n",
       "<table border=\"1\" class=\"dataframe\">\n",
       "  <thead>\n",
       "    <tr style=\"text-align: right;\">\n",
       "      <th></th>\n",
       "      <th>Ref</th>\n",
       "      <th>TSS</th>\n",
       "      <th>Location</th>\n",
       "      <th>Strand</th>\n",
       "      <th>Name</th>\n",
       "      <th>Sequence</th>\n",
       "    </tr>\n",
       "  </thead>\n",
       "  <tbody>\n",
       "    <tr>\n",
       "      <th>0</th>\n",
       "      <td>NC_000001.11</td>\n",
       "      <td>TSS</td>\n",
       "      <td>959256</td>\n",
       "      <td>-</td>\n",
       "      <td>NOC2L_1</td>\n",
       "      <td>GCTGGCCCGGTCTCCGCGGATCGGAGGCGAAGCCAGCCTGGCCCTC...</td>\n",
       "    </tr>\n",
       "    <tr>\n",
       "      <th>1</th>\n",
       "      <td>NC_000001.11</td>\n",
       "      <td>TSS</td>\n",
       "      <td>960633</td>\n",
       "      <td>+</td>\n",
       "      <td>KLHL17_1</td>\n",
       "      <td>GAGGAGGAAGAGGGCGAGGCTTAGGGGGGCtccttggaggaggagg...</td>\n",
       "    </tr>\n",
       "    <tr>\n",
       "      <th>2</th>\n",
       "      <td>NC_000001.11</td>\n",
       "      <td>TSS</td>\n",
       "      <td>966482</td>\n",
       "      <td>+</td>\n",
       "      <td>PLEKHN1_1</td>\n",
       "      <td>CCTTGCCCCCGAGTGCGCTGACTGTCTTGGCCGTCTAGGGGGCATG...</td>\n",
       "    </tr>\n",
       "    <tr>\n",
       "      <th>3</th>\n",
       "      <td>NC_000001.11</td>\n",
       "      <td>TSS</td>\n",
       "      <td>976681</td>\n",
       "      <td>-</td>\n",
       "      <td>PERM1_1</td>\n",
       "      <td>GGGAGGCGGTTCCCGGGGTTGGTGGGGGGAGCGGGAGGCGGTTCCC...</td>\n",
       "    </tr>\n",
       "    <tr>\n",
       "      <th>4</th>\n",
       "      <td>NC_000001.11</td>\n",
       "      <td>TSS</td>\n",
       "      <td>1000097</td>\n",
       "      <td>-</td>\n",
       "      <td>HES4_1</td>\n",
       "      <td>GGACCGGAGTGGGGACGGGCGGAGGAAGCCAAGAGGCTCGAGACCG...</td>\n",
       "    </tr>\n",
       "  </tbody>\n",
       "</table>\n",
       "</div>"
      ],
      "text/plain": [
       "            Ref  TSS  Location Strand       Name  \\\n",
       "0  NC_000001.11  TSS    959256      -    NOC2L_1   \n",
       "1  NC_000001.11  TSS    960633      +   KLHL17_1   \n",
       "2  NC_000001.11  TSS    966482      +  PLEKHN1_1   \n",
       "3  NC_000001.11  TSS    976681      -    PERM1_1   \n",
       "4  NC_000001.11  TSS   1000097      -     HES4_1   \n",
       "\n",
       "                                            Sequence  \n",
       "0  GCTGGCCCGGTCTCCGCGGATCGGAGGCGAAGCCAGCCTGGCCCTC...  \n",
       "1  GAGGAGGAAGAGGGCGAGGCTTAGGGGGGCtccttggaggaggagg...  \n",
       "2  CCTTGCCCCCGAGTGCGCTGACTGTCTTGGCCGTCTAGGGGGCATG...  \n",
       "3  GGGAGGCGGTTCCCGGGGTTGGTGGGGGGAGCGGGAGGCGGTTCCC...  \n",
       "4  GGACCGGAGTGGGGACGGGCGGAGGAAGCCAAGAGGCTCGAGACCG...  "
      ]
     },
     "execution_count": 18,
     "metadata": {},
     "output_type": "execute_result"
    }
   ],
   "source": [
    "sequences_df.head()"
   ]
  },
  {
   "cell_type": "code",
   "execution_count": 19,
   "metadata": {},
   "outputs": [
    {
     "data": {
      "text/plain": [
       "(29598, 6)"
      ]
     },
     "execution_count": 19,
     "metadata": {},
     "output_type": "execute_result"
    }
   ],
   "source": [
    "sequences_df.shape"
   ]
  },
  {
   "cell_type": "markdown",
   "metadata": {},
   "source": [
    "# Negatives"
   ]
  },
  {
   "cell_type": "code",
   "execution_count": 20,
   "metadata": {},
   "outputs": [],
   "source": [
    "with ThreadPoolExecutor(8) as ex:\n",
    "    outs = ex.map(lambda x: chromosome_to_negative(x, promoter_reference), chroms)"
   ]
  },
  {
   "cell_type": "code",
   "execution_count": 21,
   "metadata": {},
   "outputs": [],
   "source": [
    "negatives = list(outs)"
   ]
  },
  {
   "cell_type": "code",
   "execution_count": 22,
   "metadata": {},
   "outputs": [],
   "source": [
    "negs = [i for i in negatives if not type(i) == type(None)]\n",
    "negs = [i for i in negs if len(i) > 1]"
   ]
  },
  {
   "cell_type": "code",
   "execution_count": 23,
   "metadata": {},
   "outputs": [],
   "source": [
    "negs = np.concatenate(negs)"
   ]
  },
  {
   "cell_type": "code",
   "execution_count": 25,
   "metadata": {},
   "outputs": [],
   "source": [
    "neg_df = pd.DataFrame(negs, columns=['Sequence'])"
   ]
  },
  {
   "cell_type": "code",
   "execution_count": 26,
   "metadata": {},
   "outputs": [
    {
     "data": {
      "text/html": [
       "<div>\n",
       "<style scoped>\n",
       "    .dataframe tbody tr th:only-of-type {\n",
       "        vertical-align: middle;\n",
       "    }\n",
       "\n",
       "    .dataframe tbody tr th {\n",
       "        vertical-align: top;\n",
       "    }\n",
       "\n",
       "    .dataframe thead th {\n",
       "        text-align: right;\n",
       "    }\n",
       "</style>\n",
       "<table border=\"1\" class=\"dataframe\">\n",
       "  <thead>\n",
       "    <tr style=\"text-align: right;\">\n",
       "      <th></th>\n",
       "      <th>Sequence</th>\n",
       "    </tr>\n",
       "  </thead>\n",
       "  <tbody>\n",
       "    <tr>\n",
       "      <th>0</th>\n",
       "      <td>AGGGTGCCCTGTACGTGGCAGGGGGCAACGACGGCACCAGCTGCCT...</td>\n",
       "    </tr>\n",
       "    <tr>\n",
       "      <th>1</th>\n",
       "      <td>CTGACCTGCCCCTCCGCCCCTCCATTCAGGGGCCTCTCCAGGAGCC...</td>\n",
       "    </tr>\n",
       "    <tr>\n",
       "      <th>2</th>\n",
       "      <td>AGCCAGGGTGCCCCGAGGAGGAGGGTGGGTGGGTCCTTGTGTGGCC...</td>\n",
       "    </tr>\n",
       "    <tr>\n",
       "      <th>3</th>\n",
       "      <td>CGGGgaccccacccccctccccaccctgatCCTCGCAGCCGGCTCT...</td>\n",
       "    </tr>\n",
       "    <tr>\n",
       "      <th>4</th>\n",
       "      <td>GATGACTTTCACCTACTATTCAGCAGAAAACCAAAAGCCAAGATAA...</td>\n",
       "    </tr>\n",
       "  </tbody>\n",
       "</table>\n",
       "</div>"
      ],
      "text/plain": [
       "                                            Sequence\n",
       "0  AGGGTGCCCTGTACGTGGCAGGGGGCAACGACGGCACCAGCTGCCT...\n",
       "1  CTGACCTGCCCCTCCGCCCCTCCATTCAGGGGCCTCTCCAGGAGCC...\n",
       "2  AGCCAGGGTGCCCCGAGGAGGAGGGTGGGTGGGTCCTTGTGTGGCC...\n",
       "3  CGGGgaccccacccccctccccaccctgatCCTCGCAGCCGGCTCT...\n",
       "4  GATGACTTTCACCTACTATTCAGCAGAAAACCAAAAGCCAAGATAA..."
      ]
     },
     "execution_count": 26,
     "metadata": {},
     "output_type": "execute_result"
    }
   ],
   "source": [
    "neg_df.head()"
   ]
  },
  {
   "cell_type": "code",
   "execution_count": 27,
   "metadata": {},
   "outputs": [],
   "source": [
    "neg_df['Target'] = 0"
   ]
  },
  {
   "cell_type": "markdown",
   "metadata": {},
   "source": [
    "# Concat"
   ]
  },
  {
   "cell_type": "code",
   "execution_count": 28,
   "metadata": {},
   "outputs": [],
   "source": [
    "seq_data = sequences_df.Sequence"
   ]
  },
  {
   "cell_type": "code",
   "execution_count": 29,
   "metadata": {},
   "outputs": [],
   "source": [
    "seq_df = pd.DataFrame(seq_data)"
   ]
  },
  {
   "cell_type": "code",
   "execution_count": 30,
   "metadata": {},
   "outputs": [],
   "source": [
    "seq_df['Target'] = 1"
   ]
  },
  {
   "cell_type": "code",
   "execution_count": 31,
   "metadata": {},
   "outputs": [],
   "source": [
    "classification_df = pd.concat([seq_df, neg_df])"
   ]
  },
  {
   "cell_type": "code",
   "execution_count": 32,
   "metadata": {},
   "outputs": [
    {
     "data": {
      "text/html": [
       "<div>\n",
       "<style scoped>\n",
       "    .dataframe tbody tr th:only-of-type {\n",
       "        vertical-align: middle;\n",
       "    }\n",
       "\n",
       "    .dataframe tbody tr th {\n",
       "        vertical-align: top;\n",
       "    }\n",
       "\n",
       "    .dataframe thead th {\n",
       "        text-align: right;\n",
       "    }\n",
       "</style>\n",
       "<table border=\"1\" class=\"dataframe\">\n",
       "  <thead>\n",
       "    <tr style=\"text-align: right;\">\n",
       "      <th></th>\n",
       "      <th>Sequence</th>\n",
       "      <th>Target</th>\n",
       "    </tr>\n",
       "  </thead>\n",
       "  <tbody>\n",
       "    <tr>\n",
       "      <th>0</th>\n",
       "      <td>GCTGGCCCGGTCTCCGCGGATCGGAGGCGAAGCCAGCCTGGCCCTC...</td>\n",
       "      <td>1</td>\n",
       "    </tr>\n",
       "    <tr>\n",
       "      <th>1</th>\n",
       "      <td>GAGGAGGAAGAGGGCGAGGCTTAGGGGGGCtccttggaggaggagg...</td>\n",
       "      <td>1</td>\n",
       "    </tr>\n",
       "    <tr>\n",
       "      <th>2</th>\n",
       "      <td>CCTTGCCCCCGAGTGCGCTGACTGTCTTGGCCGTCTAGGGGGCATG...</td>\n",
       "      <td>1</td>\n",
       "    </tr>\n",
       "    <tr>\n",
       "      <th>3</th>\n",
       "      <td>GGGAGGCGGTTCCCGGGGTTGGTGGGGGGAGCGGGAGGCGGTTCCC...</td>\n",
       "      <td>1</td>\n",
       "    </tr>\n",
       "    <tr>\n",
       "      <th>4</th>\n",
       "      <td>GGACCGGAGTGGGGACGGGCGGAGGAAGCCAAGAGGCTCGAGACCG...</td>\n",
       "      <td>1</td>\n",
       "    </tr>\n",
       "  </tbody>\n",
       "</table>\n",
       "</div>"
      ],
      "text/plain": [
       "                                            Sequence  Target\n",
       "0  GCTGGCCCGGTCTCCGCGGATCGGAGGCGAAGCCAGCCTGGCCCTC...       1\n",
       "1  GAGGAGGAAGAGGGCGAGGCTTAGGGGGGCtccttggaggaggagg...       1\n",
       "2  CCTTGCCCCCGAGTGCGCTGACTGTCTTGGCCGTCTAGGGGGCATG...       1\n",
       "3  GGGAGGCGGTTCCCGGGGTTGGTGGGGGGAGCGGGAGGCGGTTCCC...       1\n",
       "4  GGACCGGAGTGGGGACGGGCGGAGGAAGCCAAGAGGCTCGAGACCG...       1"
      ]
     },
     "execution_count": 32,
     "metadata": {},
     "output_type": "execute_result"
    }
   ],
   "source": [
    "classification_df.head()"
   ]
  },
  {
   "cell_type": "code",
   "execution_count": 33,
   "metadata": {},
   "outputs": [
    {
     "data": {
      "text/plain": [
       "(70169, 2)"
      ]
     },
     "execution_count": 33,
     "metadata": {},
     "output_type": "execute_result"
    }
   ],
   "source": [
    "classification_df.shape"
   ]
  },
  {
   "cell_type": "code",
   "execution_count": 36,
   "metadata": {},
   "outputs": [],
   "source": [
    "classification_df.reset_index(inplace=True, drop=True)"
   ]
  },
  {
   "cell_type": "code",
   "execution_count": 38,
   "metadata": {},
   "outputs": [
    {
     "data": {
      "text/plain": [
       "1000"
      ]
     },
     "execution_count": 38,
     "metadata": {},
     "output_type": "execute_result"
    }
   ],
   "source": [
    "len(classification_df.Sequence[0])"
   ]
  },
  {
   "cell_type": "markdown",
   "metadata": {},
   "source": [
    "Some errors slipped through"
   ]
  },
  {
   "cell_type": "code",
   "execution_count": 6,
   "metadata": {},
   "outputs": [
    {
     "data": {
      "text/html": [
       "<div>\n",
       "<style scoped>\n",
       "    .dataframe tbody tr th:only-of-type {\n",
       "        vertical-align: middle;\n",
       "    }\n",
       "\n",
       "    .dataframe tbody tr th {\n",
       "        vertical-align: top;\n",
       "    }\n",
       "\n",
       "    .dataframe thead th {\n",
       "        text-align: right;\n",
       "    }\n",
       "</style>\n",
       "<table border=\"1\" class=\"dataframe\">\n",
       "  <thead>\n",
       "    <tr style=\"text-align: right;\">\n",
       "      <th></th>\n",
       "      <th>Sequence</th>\n",
       "      <th>Target</th>\n",
       "    </tr>\n",
       "  </thead>\n",
       "  <tbody>\n",
       "    <tr>\n",
       "      <th>14533</th>\n",
       "      <td>NaN</td>\n",
       "      <td>1</td>\n",
       "    </tr>\n",
       "  </tbody>\n",
       "</table>\n",
       "</div>"
      ],
      "text/plain": [
       "      Sequence  Target\n",
       "14533      NaN       1"
      ]
     },
     "execution_count": 6,
     "metadata": {},
     "output_type": "execute_result"
    }
   ],
   "source": [
    "classification_df[classification_df.Sequence.map(lambda x: type(x) == type(1.0))]"
   ]
  },
  {
   "cell_type": "code",
   "execution_count": 8,
   "metadata": {},
   "outputs": [],
   "source": [
    "classification_df.drop(14533, inplace=True)"
   ]
  },
  {
   "cell_type": "code",
   "execution_count": 18,
   "metadata": {},
   "outputs": [
    {
     "data": {
      "text/html": [
       "<div>\n",
       "<style scoped>\n",
       "    .dataframe tbody tr th:only-of-type {\n",
       "        vertical-align: middle;\n",
       "    }\n",
       "\n",
       "    .dataframe tbody tr th {\n",
       "        vertical-align: top;\n",
       "    }\n",
       "\n",
       "    .dataframe thead th {\n",
       "        text-align: right;\n",
       "    }\n",
       "</style>\n",
       "<table border=\"1\" class=\"dataframe\">\n",
       "  <thead>\n",
       "    <tr style=\"text-align: right;\">\n",
       "      <th></th>\n",
       "      <th>Sequence</th>\n",
       "      <th>Target</th>\n",
       "    </tr>\n",
       "  </thead>\n",
       "  <tbody>\n",
       "    <tr>\n",
       "      <th>50811</th>\n",
       "      <td>gagttgaagccctaaccctcaataaacctgtatttggagatagagc...</td>\n",
       "      <td>0</td>\n",
       "    </tr>\n",
       "  </tbody>\n",
       "</table>\n",
       "</div>"
      ],
      "text/plain": [
       "                                                Sequence  Target\n",
       "50811  gagttgaagccctaaccctcaataaacctgtatttggagatagagc...       0"
      ]
     },
     "execution_count": 18,
     "metadata": {},
     "output_type": "execute_result"
    }
   ],
   "source": [
    "classification_df[~classification_df.Sequence.map(lambda x: set(x.upper()) == set('ATGC'))]"
   ]
  },
  {
   "cell_type": "code",
   "execution_count": 19,
   "metadata": {},
   "outputs": [],
   "source": [
    "classification_df.drop(50811, inplace=True)\n",
    "classification_df.reset_index(inplace=True, drop=True)"
   ]
  },
  {
   "cell_type": "code",
   "execution_count": 8,
   "metadata": {},
   "outputs": [],
   "source": [
    "def partition_data(df):\n",
    "    \n",
    "    train_size = int(len(df)*0.9*0.9)\n",
    "    valid_size = int(len(df)*0.9) - train_size\n",
    "    \n",
    "    train_df = df.sample(train_size)\n",
    "    test_val = df.drop(train_df.index)\n",
    "    valid_df = test_val.sample(valid_size)\n",
    "    test_df = test_val.drop(valid_df.index)\n",
    "    train_df['set'] = 'train'\n",
    "    valid_df['set'] = 'valid'\n",
    "    test_df['set'] = 'test'\n",
    "    \n",
    "    return (train_df, valid_df, test_df)"
   ]
  },
  {
   "cell_type": "code",
   "execution_count": 9,
   "metadata": {},
   "outputs": [],
   "source": [
    "pos_df = classification_df[classification_df.Target == 1]\n",
    "neg_df = classification_df[classification_df.Target == 0]"
   ]
  },
  {
   "cell_type": "code",
   "execution_count": 10,
   "metadata": {},
   "outputs": [],
   "source": [
    "t1, v1, test1 = partition_data(pos_df)\n",
    "t2, v2, test2 = partition_data(neg_df)"
   ]
  },
  {
   "cell_type": "code",
   "execution_count": 11,
   "metadata": {},
   "outputs": [],
   "source": [
    "data_df = pd.concat([t1, t2, v1, v2, test1, test2])"
   ]
  },
  {
   "cell_type": "code",
   "execution_count": 12,
   "metadata": {},
   "outputs": [
    {
     "data": {
      "text/html": [
       "<div>\n",
       "<style scoped>\n",
       "    .dataframe tbody tr th:only-of-type {\n",
       "        vertical-align: middle;\n",
       "    }\n",
       "\n",
       "    .dataframe tbody tr th {\n",
       "        vertical-align: top;\n",
       "    }\n",
       "\n",
       "    .dataframe thead th {\n",
       "        text-align: right;\n",
       "    }\n",
       "</style>\n",
       "<table border=\"1\" class=\"dataframe\">\n",
       "  <thead>\n",
       "    <tr style=\"text-align: right;\">\n",
       "      <th></th>\n",
       "      <th>Sequence</th>\n",
       "      <th>Target</th>\n",
       "      <th>set</th>\n",
       "    </tr>\n",
       "  </thead>\n",
       "  <tbody>\n",
       "    <tr>\n",
       "      <th>5122</th>\n",
       "      <td>ccaGTTGAAAAGTAGAGGCCGAGGACAGAGTTAGACACTCGTTGTC...</td>\n",
       "      <td>1</td>\n",
       "      <td>train</td>\n",
       "    </tr>\n",
       "    <tr>\n",
       "      <th>11757</th>\n",
       "      <td>ggaagggcgCAAGAGAGGATCAGGGGTCAGCGGCACACCCATGGAG...</td>\n",
       "      <td>1</td>\n",
       "      <td>train</td>\n",
       "    </tr>\n",
       "    <tr>\n",
       "      <th>5822</th>\n",
       "      <td>TAAAGAAATACAAGGATTCCTCAAGCCCCTCTTCCCTAAAACATGC...</td>\n",
       "      <td>1</td>\n",
       "      <td>train</td>\n",
       "    </tr>\n",
       "    <tr>\n",
       "      <th>20025</th>\n",
       "      <td>CGCGGGGCCGGGGAAGCCCGCGCGCGTCATCAGCAGCGGCGCCGCG...</td>\n",
       "      <td>1</td>\n",
       "      <td>train</td>\n",
       "    </tr>\n",
       "    <tr>\n",
       "      <th>14727</th>\n",
       "      <td>TACACAGTAAGGACAGCCGCTGGAGCGCTACGGTCTGACGAACGAG...</td>\n",
       "      <td>1</td>\n",
       "      <td>train</td>\n",
       "    </tr>\n",
       "  </tbody>\n",
       "</table>\n",
       "</div>"
      ],
      "text/plain": [
       "                                                Sequence  Target    set\n",
       "5122   ccaGTTGAAAAGTAGAGGCCGAGGACAGAGTTAGACACTCGTTGTC...       1  train\n",
       "11757  ggaagggcgCAAGAGAGGATCAGGGGTCAGCGGCACACCCATGGAG...       1  train\n",
       "5822   TAAAGAAATACAAGGATTCCTCAAGCCCCTCTTCCCTAAAACATGC...       1  train\n",
       "20025  CGCGGGGCCGGGGAAGCCCGCGCGCGTCATCAGCAGCGGCGCCGCG...       1  train\n",
       "14727  TACACAGTAAGGACAGCCGCTGGAGCGCTACGGTCTGACGAACGAG...       1  train"
      ]
     },
     "execution_count": 12,
     "metadata": {},
     "output_type": "execute_result"
    }
   ],
   "source": [
    "data_df.head()"
   ]
  },
  {
   "cell_type": "code",
   "execution_count": 14,
   "metadata": {},
   "outputs": [
    {
     "data": {
      "text/plain": [
       "((56834, 3), (6316, 3), (7017, 3), (70167, 3))"
      ]
     },
     "execution_count": 14,
     "metadata": {},
     "output_type": "execute_result"
    }
   ],
   "source": [
    "data_df[data_df.set == 'train'].shape, data_df[data_df.set == 'valid'].shape, data_df[data_df.set == 'test'].shape, data_df.shape"
   ]
  },
  {
   "cell_type": "code",
   "execution_count": 15,
   "metadata": {},
   "outputs": [],
   "source": [
    "data_df.to_csv(path/'human_promoters_long.csv', index=False)"
   ]
  },
  {
   "cell_type": "code",
   "execution_count": null,
   "metadata": {},
   "outputs": [],
   "source": []
  }
 ],
 "metadata": {
  "kernelspec": {
   "display_name": "Python 3",
   "language": "python",
   "name": "python3"
  },
  "language_info": {
   "codemirror_mode": {
    "name": "ipython",
    "version": 3
   },
   "file_extension": ".py",
   "mimetype": "text/x-python",
   "name": "python",
   "nbconvert_exporter": "python",
   "pygments_lexer": "ipython3",
   "version": "3.7.2"
  }
 },
 "nbformat": 4,
 "nbformat_minor": 2
}
