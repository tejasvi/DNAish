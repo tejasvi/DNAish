{
 "cells": [
  {
   "cell_type": "markdown",
   "metadata": {},
   "source": [
    "# E. coli Data Processing\n",
    "\n",
    "This notebook creates the datasets needed to train the E. coli model. The following datasets are created:\n",
    "\n",
    "#### E. coli Language Model \n",
    "This dataframe will contain the E. coli genome as long text strings, parsed to remove poorly sequenced regions (N heavy)\n",
    "\n",
    "#### E. coli Promoter Classification\n",
    "This dataframe will contain E. coli promoters, defined as -100/+50 base pairs from each annotated transcription start site. The classification data will also include negative examples of the same length taken from regions not including a TSS. Taking promoter sequences based on TSS locations runs the risk of putting highly similar promoters into the dataset. To construct meaningful test and validation sets to evaluate the model, we must ensure that sequences in the test/validation sets are sufficiently different from sequences in the training set. This is done using a method described below.\n",
    "\n",
    "#### Data Source\n",
    "E. coli genomic data and TSS locations are taken from the E. coli reference genome genbank file available at [NCBI](https://www.ncbi.nlm.nih.gov/genome/?term=escherichia%20coli)"
   ]
  },
  {
   "cell_type": "code",
   "execution_count": 1,
   "metadata": {},
   "outputs": [],
   "source": [
    "%reload_ext autoreload\n",
    "%autoreload 2\n",
    "%matplotlib inline"
   ]
  },
  {
   "cell_type": "code",
   "execution_count": 2,
   "metadata": {},
   "outputs": [],
   "source": [
    "from fastai import *\n",
    "from fastai.text import *\n",
    "from Bio import Seq\n",
    "from Bio.Seq import Seq\n",
    "from Bio import SeqIO\n",
    "from Bio.SeqRecord import SeqRecord\n",
    "from Bio.SeqFeature import FeatureLocation, CompoundLocation\n",
    "import networkx as nx"
   ]
  },
  {
   "cell_type": "code",
   "execution_count": 3,
   "metadata": {},
   "outputs": [],
   "source": [
    "sys.path.append(\"../..\")\n",
    "from utils import *"
   ]
  },
  {
   "cell_type": "code",
   "execution_count": 4,
   "metadata": {},
   "outputs": [],
   "source": [
    "path = Path('F:/genome/e_coli/')"
   ]
  },
  {
   "cell_type": "markdown",
   "metadata": {},
   "source": [
    "# Language Model Data"
   ]
  },
  {
   "cell_type": "code",
   "execution_count": 5,
   "metadata": {},
   "outputs": [],
   "source": [
    "fname = 'GCF_000005845.2_ASM584v2_genomic.fna'"
   ]
  },
  {
   "cell_type": "code",
   "execution_count": 6,
   "metadata": {},
   "outputs": [],
   "source": [
    "data = process_fasta(path/fname, 2000, 900)"
   ]
  },
  {
   "cell_type": "code",
   "execution_count": 7,
   "metadata": {},
   "outputs": [],
   "source": [
    "val_pct = 0.15\n",
    "cut = int(len(data)*val_pct) + 1\n",
    "\n",
    "train_df = pd.DataFrame(data[:cut], columns=['Sequence'])\n",
    "valid_df = pd.DataFrame(data[cut:], columns=['Sequence'])\n",
    "train_df['is_train'] = 1\n",
    "valid_df['is_train'] = 0\n",
    "\n",
    "data_df = pd.concat([train_df, valid_df])\n",
    "data_df.to_csv(path/'e_coli_lm_data.csv', index=False)"
   ]
  },
  {
   "cell_type": "code",
   "execution_count": 8,
   "metadata": {},
   "outputs": [
    {
     "data": {
      "text/html": [
       "<div>\n",
       "<style scoped>\n",
       "    .dataframe tbody tr th:only-of-type {\n",
       "        vertical-align: middle;\n",
       "    }\n",
       "\n",
       "    .dataframe tbody tr th {\n",
       "        vertical-align: top;\n",
       "    }\n",
       "\n",
       "    .dataframe thead th {\n",
       "        text-align: right;\n",
       "    }\n",
       "</style>\n",
       "<table border=\"1\" class=\"dataframe\">\n",
       "  <thead>\n",
       "    <tr style=\"text-align: right;\">\n",
       "      <th></th>\n",
       "      <th>Sequence</th>\n",
       "      <th>is_train</th>\n",
       "    </tr>\n",
       "  </thead>\n",
       "  <tbody>\n",
       "    <tr>\n",
       "      <th>0</th>\n",
       "      <td>AGCTTTTCATTCTGACTGCAACGGGCAATATGTCTCTGTGTGGATT...</td>\n",
       "      <td>1</td>\n",
       "    </tr>\n",
       "    <tr>\n",
       "      <th>1</th>\n",
       "      <td>GGTTTCACCGCCGGTAATGAAAAAGGCGAACTGGTGGTGCTTGGAC...</td>\n",
       "      <td>1</td>\n",
       "    </tr>\n",
       "    <tr>\n",
       "      <th>2</th>\n",
       "      <td>AGCTGGCTGAAGAATAAACATATCGACTTACGTGTCTGCGGTGTTG...</td>\n",
       "      <td>1</td>\n",
       "    </tr>\n",
       "    <tr>\n",
       "      <th>3</th>\n",
       "      <td>CCGTTGGTACTGCGCGGATATGGTGCGGGCAATGACGTTACAGCTG...</td>\n",
       "      <td>1</td>\n",
       "    </tr>\n",
       "    <tr>\n",
       "      <th>4</th>\n",
       "      <td>CGCTCTGTGTGACAAGCCGGAAACCGCCCAGCGCGTTGCCGACTGG...</td>\n",
       "      <td>1</td>\n",
       "    </tr>\n",
       "  </tbody>\n",
       "</table>\n",
       "</div>"
      ],
      "text/plain": [
       "                                            Sequence  is_train\n",
       "0  AGCTTTTCATTCTGACTGCAACGGGCAATATGTCTCTGTGTGGATT...         1\n",
       "1  GGTTTCACCGCCGGTAATGAAAAAGGCGAACTGGTGGTGCTTGGAC...         1\n",
       "2  AGCTGGCTGAAGAATAAACATATCGACTTACGTGTCTGCGGTGTTG...         1\n",
       "3  CCGTTGGTACTGCGCGGATATGGTGCGGGCAATGACGTTACAGCTG...         1\n",
       "4  CGCTCTGTGTGACAAGCCGGAAACCGCCCAGCGCGTTGCCGACTGG...         1"
      ]
     },
     "execution_count": 8,
     "metadata": {},
     "output_type": "execute_result"
    }
   ],
   "source": [
    "data_df.head()"
   ]
  },
  {
   "cell_type": "markdown",
   "metadata": {},
   "source": [
    "# Classification Data"
   ]
  },
  {
   "cell_type": "code",
   "execution_count": 5,
   "metadata": {},
   "outputs": [],
   "source": [
    "fname = 'GCF_000005845.2_ASM584v2_genomic.gbff'"
   ]
  },
  {
   "cell_type": "code",
   "execution_count": 11,
   "metadata": {},
   "outputs": [],
   "source": [
    "GB = next(SeqIO.parse(path/fname, \"genbank\"))"
   ]
  },
  {
   "cell_type": "code",
   "execution_count": 12,
   "metadata": {},
   "outputs": [],
   "source": [
    "# Extract promoter regions\n",
    "# All sequences saved as sense strands\n",
    "def extract_promoter(feature):\n",
    "    quals = list(feature.qualifiers.keys())\n",
    "    \n",
    "    if 'gene' in quals:\n",
    "        gene = feature.qualifiers['gene']\n",
    "    else:\n",
    "        gene = None\n",
    "        \n",
    "    if 'locus_tag' in quals:\n",
    "        locus = feature.qualifiers['locus_tag']\n",
    "    else:\n",
    "        locus = None\n",
    "        \n",
    "    cds_loc = str(feature.location)\n",
    "    cds_start = feature.location.start.position\n",
    "    cds_end = feature.location.end.position\n",
    "    p_start = cds_start - 100\n",
    "    p_end = cds_end + 100\n",
    "    \n",
    "    if feature.strand == -1:\n",
    "        orient = 'reverse'\n",
    "        promoter = GB[cds_end-50:p_end].reverse_complement().seq.__str__()\n",
    "        promoter_loc = f\"[{cds_end-50}:{p_end}]\" + f\"{cds_loc[-3:]}\"\n",
    "                \n",
    "    else:\n",
    "        orient = 'forward'\n",
    "        promoter = GB[p_start:cds_start+50].seq.__str__()\n",
    "        promoter_loc = f\"[{p_start}:{cds_start+50}]\" + f\"{cds_loc[-3:]}\"\n",
    "                    \n",
    "    promoter_data = [gene, locus, cds_loc, promoter_loc, orient, promoter, 1]\n",
    "    \n",
    "    return promoter_data"
   ]
  },
  {
   "cell_type": "code",
   "execution_count": 13,
   "metadata": {},
   "outputs": [],
   "source": [
    "# Extract negative examples\n",
    "def extract_gene(feature):\n",
    "    quals = list(feature.qualifiers.keys())\n",
    "    \n",
    "    if 'gene' in quals:\n",
    "        gene = feature.qualifiers['gene']\n",
    "    else:\n",
    "        gene = None\n",
    "        \n",
    "    if 'locus_tag' in quals:\n",
    "        locus = feature.qualifiers['locus_tag']\n",
    "    else:\n",
    "        locus = None\n",
    "        \n",
    "    cds_loc = str(feature.location)\n",
    "    cds_start = feature.location.start.position\n",
    "    cds_end = feature.location.end.position\n",
    "    \n",
    "    gene_len = (cds_end-50) - (cds_start + 50)\n",
    "    \n",
    "    if gene_len > 150:\n",
    "        rand_start = np.random.randint(cds_start+50, cds_end-200)\n",
    "        rand_gene = GB[rand_start:rand_start+150]\n",
    "        rand_gene_loc = f\"[{rand_start}:{rand_start+150}]\" + f\"{cds_loc[-3:]}\"\n",
    "            \n",
    "        if feature.strand == -1:\n",
    "            orient = 'reverse'\n",
    "            rand_gene = rand_gene.reverse_complement().seq.__str__()\n",
    "            \n",
    "        else:\n",
    "            orient = 'forward'\n",
    "            rand_gene = rand_gene.seq.__str__()\n",
    "            \n",
    "        gene_data = [gene, locus, cds_loc, rand_gene_loc, orient, rand_gene, 0]\n",
    "        return gene_data\n",
    "\n",
    "    else:\n",
    "        return False"
   ]
  },
  {
   "cell_type": "code",
   "execution_count": 10,
   "metadata": {},
   "outputs": [],
   "source": [
    "proms = []\n",
    "for feature in GB.features:\n",
    "    if feature.type == 'CDS':\n",
    "        proms.append(extract_promoter(feature))"
   ]
  },
  {
   "cell_type": "code",
   "execution_count": 11,
   "metadata": {},
   "outputs": [],
   "source": [
    "prom_df = pd.DataFrame(proms, columns=['Gene', 'Locus', 'Location', 'Sample Location', 'Orientation', 'Sequence', 'Promoter'])"
   ]
  },
  {
   "cell_type": "code",
   "execution_count": 13,
   "metadata": {},
   "outputs": [],
   "source": [
    "genes = []\n",
    "for feature in GB.features:\n",
    "    if feature.type == 'CDS':\n",
    "        gene = extract_gene(feature)\n",
    "        if gene:\n",
    "            genes.append(gene)"
   ]
  },
  {
   "cell_type": "code",
   "execution_count": 14,
   "metadata": {},
   "outputs": [],
   "source": [
    "gene_df = pd.DataFrame(genes, columns=['Gene', 'Locus', 'Location', 'Sample Location', 'Orientation', 'Sequence', 'Promoter'])"
   ]
  },
  {
   "cell_type": "code",
   "execution_count": 16,
   "metadata": {},
   "outputs": [
    {
     "data": {
      "text/plain": [
       "((4357, 7), (4014, 7))"
      ]
     },
     "execution_count": 16,
     "metadata": {},
     "output_type": "execute_result"
    }
   ],
   "source": [
    "# Approximately 4000 positive and negative examples\n",
    "prom_df.shape, gene_df.shape"
   ]
  },
  {
   "cell_type": "code",
   "execution_count": 17,
   "metadata": {},
   "outputs": [],
   "source": [
    "promoter_data = pd.concat([prom_df, gene_df])"
   ]
  },
  {
   "cell_type": "code",
   "execution_count": 18,
   "metadata": {},
   "outputs": [
    {
     "data": {
      "text/plain": [
       "(8371, 7)"
      ]
     },
     "execution_count": 18,
     "metadata": {},
     "output_type": "execute_result"
    }
   ],
   "source": [
    "promoter_data.shape"
   ]
  },
  {
   "cell_type": "code",
   "execution_count": 12,
   "metadata": {},
   "outputs": [
    {
     "data": {
      "text/html": [
       "<div>\n",
       "<style scoped>\n",
       "    .dataframe tbody tr th:only-of-type {\n",
       "        vertical-align: middle;\n",
       "    }\n",
       "\n",
       "    .dataframe tbody tr th {\n",
       "        vertical-align: top;\n",
       "    }\n",
       "\n",
       "    .dataframe thead th {\n",
       "        text-align: right;\n",
       "    }\n",
       "</style>\n",
       "<table border=\"1\" class=\"dataframe\">\n",
       "  <thead>\n",
       "    <tr style=\"text-align: right;\">\n",
       "      <th></th>\n",
       "      <th>Gene</th>\n",
       "      <th>Locus</th>\n",
       "      <th>Location</th>\n",
       "      <th>Sample Location</th>\n",
       "      <th>Orientation</th>\n",
       "      <th>Sequence</th>\n",
       "      <th>Promoter</th>\n",
       "    </tr>\n",
       "  </thead>\n",
       "  <tbody>\n",
       "    <tr>\n",
       "      <th>0</th>\n",
       "      <td>[thrL]</td>\n",
       "      <td>[b0001]</td>\n",
       "      <td>[189:255](+)</td>\n",
       "      <td>[89:239](+)</td>\n",
       "      <td>forward</td>\n",
       "      <td>CGTGAGTAAATTAAAATTTTATTGACTTAGGTCACTAAATACTTTA...</td>\n",
       "      <td>1</td>\n",
       "    </tr>\n",
       "    <tr>\n",
       "      <th>1</th>\n",
       "      <td>[thrA]</td>\n",
       "      <td>[b0002]</td>\n",
       "      <td>[336:2799](+)</td>\n",
       "      <td>[236:386](+)</td>\n",
       "      <td>forward</td>\n",
       "      <td>AGGTAACGGTGCGGGCTGACGCGTACAGGAAACACAGAAAAAAGCC...</td>\n",
       "      <td>1</td>\n",
       "    </tr>\n",
       "    <tr>\n",
       "      <th>2</th>\n",
       "      <td>[thrB]</td>\n",
       "      <td>[b0003]</td>\n",
       "      <td>[2800:3733](+)</td>\n",
       "      <td>[2700:2850](+)</td>\n",
       "      <td>forward</td>\n",
       "      <td>CCGTTGGTACTGCGCGGATATGGTGCGGGCAATGACGTTACAGCTG...</td>\n",
       "      <td>1</td>\n",
       "    </tr>\n",
       "    <tr>\n",
       "      <th>3</th>\n",
       "      <td>[thrC]</td>\n",
       "      <td>[b0004]</td>\n",
       "      <td>[3733:5020](+)</td>\n",
       "      <td>[3633:3783](+)</td>\n",
       "      <td>forward</td>\n",
       "      <td>CGTTGCCGACTGGTTGGGTAAGAACTACCTGCAAAATCAGGAAGGT...</td>\n",
       "      <td>1</td>\n",
       "    </tr>\n",
       "    <tr>\n",
       "      <th>4</th>\n",
       "      <td>[yaaX]</td>\n",
       "      <td>[b0005]</td>\n",
       "      <td>[5233:5530](+)</td>\n",
       "      <td>[5133:5283](+)</td>\n",
       "      <td>forward</td>\n",
       "      <td>GTAACTTAGAGATTAGGATTGCGGAGAATAACAACCGCCGTTCTCA...</td>\n",
       "      <td>1</td>\n",
       "    </tr>\n",
       "  </tbody>\n",
       "</table>\n",
       "</div>"
      ],
      "text/plain": [
       "     Gene    Locus        Location Sample Location Orientation  \\\n",
       "0  [thrL]  [b0001]    [189:255](+)     [89:239](+)     forward   \n",
       "1  [thrA]  [b0002]   [336:2799](+)    [236:386](+)     forward   \n",
       "2  [thrB]  [b0003]  [2800:3733](+)  [2700:2850](+)     forward   \n",
       "3  [thrC]  [b0004]  [3733:5020](+)  [3633:3783](+)     forward   \n",
       "4  [yaaX]  [b0005]  [5233:5530](+)  [5133:5283](+)     forward   \n",
       "\n",
       "                                            Sequence  Promoter  \n",
       "0  CGTGAGTAAATTAAAATTTTATTGACTTAGGTCACTAAATACTTTA...         1  \n",
       "1  AGGTAACGGTGCGGGCTGACGCGTACAGGAAACACAGAAAAAAGCC...         1  \n",
       "2  CCGTTGGTACTGCGCGGATATGGTGCGGGCAATGACGTTACAGCTG...         1  \n",
       "3  CGTTGCCGACTGGTTGGGTAAGAACTACCTGCAAAATCAGGAAGGT...         1  \n",
       "4  GTAACTTAGAGATTAGGATTGCGGAGAATAACAACCGCCGTTCTCA...         1  "
      ]
     },
     "execution_count": 12,
     "metadata": {},
     "output_type": "execute_result"
    }
   ],
   "source": [
    "promoter_data.head()"
   ]
  },
  {
   "cell_type": "code",
   "execution_count": 19,
   "metadata": {},
   "outputs": [],
   "source": [
    "promoter_data.to_csv(path/'e_coli_promoters.csv', index=False)"
   ]
  },
  {
   "cell_type": "markdown",
   "metadata": {},
   "source": [
    "# Sequence Similarity\n",
    "\n",
    "It's highly likely that there are promoter sequences in the dataset that share sequence similarity. We need to make sure similar sequences don't get split into training and validation/test sets.\n",
    "\n",
    "We use a BLAST search to identify homologies between sequences. We use the information from the BLAST search to create a graph, where each sequence is a node connected to other sequences that share homology. We then grab a maximal independent set from the graph. We can safely put sequences identified as independent into validation/test sets.\n",
    "\n",
    "Sequences sharing more than 15 base pairs of homology are considered similar.\n",
    "\n",
    "10% of sequences will be set aside for the test set. Of the 90% of sequences that remain, 10% of those will be set aside for a validation set. The remaining sequences will be used for training."
   ]
  },
  {
   "cell_type": "code",
   "execution_count": 5,
   "metadata": {},
   "outputs": [],
   "source": [
    "df = pd.read_csv(path/'e_coli_promoters.csv')"
   ]
  },
  {
   "cell_type": "code",
   "execution_count": 6,
   "metadata": {},
   "outputs": [
    {
     "data": {
      "text/html": [
       "<div>\n",
       "<style scoped>\n",
       "    .dataframe tbody tr th:only-of-type {\n",
       "        vertical-align: middle;\n",
       "    }\n",
       "\n",
       "    .dataframe tbody tr th {\n",
       "        vertical-align: top;\n",
       "    }\n",
       "\n",
       "    .dataframe thead th {\n",
       "        text-align: right;\n",
       "    }\n",
       "</style>\n",
       "<table border=\"1\" class=\"dataframe\">\n",
       "  <thead>\n",
       "    <tr style=\"text-align: right;\">\n",
       "      <th></th>\n",
       "      <th>Gene</th>\n",
       "      <th>Locus</th>\n",
       "      <th>Location</th>\n",
       "      <th>Sample Location</th>\n",
       "      <th>Orientation</th>\n",
       "      <th>Sequence</th>\n",
       "      <th>Promoter</th>\n",
       "    </tr>\n",
       "  </thead>\n",
       "  <tbody>\n",
       "    <tr>\n",
       "      <th>0</th>\n",
       "      <td>['thrL']</td>\n",
       "      <td>['b0001']</td>\n",
       "      <td>[189:255](+)</td>\n",
       "      <td>[89:239](+)</td>\n",
       "      <td>forward</td>\n",
       "      <td>CGTGAGTAAATTAAAATTTTATTGACTTAGGTCACTAAATACTTTA...</td>\n",
       "      <td>1</td>\n",
       "    </tr>\n",
       "    <tr>\n",
       "      <th>1</th>\n",
       "      <td>['thrA']</td>\n",
       "      <td>['b0002']</td>\n",
       "      <td>[336:2799](+)</td>\n",
       "      <td>[236:386](+)</td>\n",
       "      <td>forward</td>\n",
       "      <td>AGGTAACGGTGCGGGCTGACGCGTACAGGAAACACAGAAAAAAGCC...</td>\n",
       "      <td>1</td>\n",
       "    </tr>\n",
       "    <tr>\n",
       "      <th>2</th>\n",
       "      <td>['thrB']</td>\n",
       "      <td>['b0003']</td>\n",
       "      <td>[2800:3733](+)</td>\n",
       "      <td>[2700:2850](+)</td>\n",
       "      <td>forward</td>\n",
       "      <td>CCGTTGGTACTGCGCGGATATGGTGCGGGCAATGACGTTACAGCTG...</td>\n",
       "      <td>1</td>\n",
       "    </tr>\n",
       "    <tr>\n",
       "      <th>3</th>\n",
       "      <td>['thrC']</td>\n",
       "      <td>['b0004']</td>\n",
       "      <td>[3733:5020](+)</td>\n",
       "      <td>[3633:3783](+)</td>\n",
       "      <td>forward</td>\n",
       "      <td>CGTTGCCGACTGGTTGGGTAAGAACTACCTGCAAAATCAGGAAGGT...</td>\n",
       "      <td>1</td>\n",
       "    </tr>\n",
       "    <tr>\n",
       "      <th>4</th>\n",
       "      <td>['yaaX']</td>\n",
       "      <td>['b0005']</td>\n",
       "      <td>[5233:5530](+)</td>\n",
       "      <td>[5133:5283](+)</td>\n",
       "      <td>forward</td>\n",
       "      <td>GTAACTTAGAGATTAGGATTGCGGAGAATAACAACCGCCGTTCTCA...</td>\n",
       "      <td>1</td>\n",
       "    </tr>\n",
       "  </tbody>\n",
       "</table>\n",
       "</div>"
      ],
      "text/plain": [
       "       Gene      Locus        Location Sample Location Orientation  \\\n",
       "0  ['thrL']  ['b0001']    [189:255](+)     [89:239](+)     forward   \n",
       "1  ['thrA']  ['b0002']   [336:2799](+)    [236:386](+)     forward   \n",
       "2  ['thrB']  ['b0003']  [2800:3733](+)  [2700:2850](+)     forward   \n",
       "3  ['thrC']  ['b0004']  [3733:5020](+)  [3633:3783](+)     forward   \n",
       "4  ['yaaX']  ['b0005']  [5233:5530](+)  [5133:5283](+)     forward   \n",
       "\n",
       "                                            Sequence  Promoter  \n",
       "0  CGTGAGTAAATTAAAATTTTATTGACTTAGGTCACTAAATACTTTA...         1  \n",
       "1  AGGTAACGGTGCGGGCTGACGCGTACAGGAAACACAGAAAAAAGCC...         1  \n",
       "2  CCGTTGGTACTGCGCGGATATGGTGCGGGCAATGACGTTACAGCTG...         1  \n",
       "3  CGTTGCCGACTGGTTGGGTAAGAACTACCTGCAAAATCAGGAAGGT...         1  \n",
       "4  GTAACTTAGAGATTAGGATTGCGGAGAATAACAACCGCCGTTCTCA...         1  "
      ]
     },
     "execution_count": 6,
     "metadata": {},
     "output_type": "execute_result"
    }
   ],
   "source": [
    "df.head()"
   ]
  },
  {
   "cell_type": "code",
   "execution_count": 7,
   "metadata": {},
   "outputs": [],
   "source": [
    "# Write sequences to fasta file\n",
    "with open('sequences.fasta', 'w') as out:\n",
    "    for i in range(len(df)):\n",
    "        out.write('>' + str(df.index[i]) + '\\n' + df.Sequence.iloc[i] + '\\n')"
   ]
  },
  {
   "cell_type": "code",
   "execution_count": null,
   "metadata": {},
   "outputs": [],
   "source": [
    "!makeblastdb -in sequences.fasta -dbtype 'nucl' -out hom_arm_db"
   ]
  },
  {
   "cell_type": "code",
   "execution_count": null,
   "metadata": {},
   "outputs": [],
   "source": [
    "!blastn -db hom_arm_db -query sequences.fasta -word_size 15 -out out_1.csv -outfmt 6"
   ]
  },
  {
   "cell_type": "code",
   "execution_count": 8,
   "metadata": {},
   "outputs": [],
   "source": [
    "blast_cols = ['Query', 'Subject', '%ident', 'Length', 'Mismatch', 'Gaps', 'qstart', 'qend',\n",
    "                 'sstart', 'send', 'evalue', 'bitscore']\n",
    "df_out = pd.read_csv('out_1.csv', sep='\\t', header=None)\n",
    "df_out.columns = blast_cols\n",
    "df_out = df_out[df_out.Query != df_out.Subject]\n",
    "df_out.reset_index(inplace=True, drop=True)"
   ]
  },
  {
   "cell_type": "code",
   "execution_count": 9,
   "metadata": {},
   "outputs": [],
   "source": [
    "df_inter = df_out[['Query', 'Subject']]\n",
    "df_inter = df_inter.drop_duplicates()"
   ]
  },
  {
   "cell_type": "code",
   "execution_count": 10,
   "metadata": {},
   "outputs": [],
   "source": [
    "def link_list(hom, overlaps, hom_names):\n",
    "    links = overlaps[overlaps.Query == hom].Subject.values\n",
    "    links = links[np.isin(links, hom_names)]\n",
    "    links = [(hom, i) for i in links]\n",
    "\n",
    "    return links"
   ]
  },
  {
   "cell_type": "code",
   "execution_count": 11,
   "metadata": {},
   "outputs": [],
   "source": [
    "def max_pooling(hom_names_list, hom_overlap_list, link_dict_in):\n",
    "    G = nx.Graph()\n",
    "    G.add_nodes_from(hom_names_list)\n",
    "\n",
    "    for i in hom_overlap_list:\n",
    "        G.add_edges_from(link_dict_in[i])\n",
    "\n",
    "    return nx.maximal_independent_set(G)"
   ]
  },
  {
   "cell_type": "code",
   "execution_count": 12,
   "metadata": {},
   "outputs": [],
   "source": [
    "link_dict = {}\n",
    "for hom in df_inter.Query.unique():\n",
    "    link_dict[hom] = link_list(hom, df_inter, df.index.values)"
   ]
  },
  {
   "cell_type": "code",
   "execution_count": 13,
   "metadata": {},
   "outputs": [],
   "source": [
    "ind_set = np.array(max_pooling(df.index.values, df_inter.Query.unique(), link_dict))"
   ]
  },
  {
   "cell_type": "markdown",
   "metadata": {},
   "source": [
    "7907 sequences are independent, as defined as having less than 15 base pairs of homology to another sequence in the dataset"
   ]
  },
  {
   "cell_type": "code",
   "execution_count": 14,
   "metadata": {},
   "outputs": [
    {
     "data": {
      "text/plain": [
       "7907"
      ]
     },
     "execution_count": 14,
     "metadata": {},
     "output_type": "execute_result"
    }
   ],
   "source": [
    "len(ind_set)"
   ]
  },
  {
   "cell_type": "code",
   "execution_count": 15,
   "metadata": {},
   "outputs": [],
   "source": [
    "df['Independent'] = df.index.map(lambda x: x in ind_set)"
   ]
  },
  {
   "cell_type": "code",
   "execution_count": 16,
   "metadata": {},
   "outputs": [
    {
     "data": {
      "text/html": [
       "<div>\n",
       "<style scoped>\n",
       "    .dataframe tbody tr th:only-of-type {\n",
       "        vertical-align: middle;\n",
       "    }\n",
       "\n",
       "    .dataframe tbody tr th {\n",
       "        vertical-align: top;\n",
       "    }\n",
       "\n",
       "    .dataframe thead th {\n",
       "        text-align: right;\n",
       "    }\n",
       "</style>\n",
       "<table border=\"1\" class=\"dataframe\">\n",
       "  <thead>\n",
       "    <tr style=\"text-align: right;\">\n",
       "      <th></th>\n",
       "      <th>Gene</th>\n",
       "      <th>Locus</th>\n",
       "      <th>Location</th>\n",
       "      <th>Sample Location</th>\n",
       "      <th>Orientation</th>\n",
       "      <th>Sequence</th>\n",
       "      <th>Promoter</th>\n",
       "      <th>Independent</th>\n",
       "    </tr>\n",
       "  </thead>\n",
       "  <tbody>\n",
       "    <tr>\n",
       "      <th>0</th>\n",
       "      <td>['thrL']</td>\n",
       "      <td>['b0001']</td>\n",
       "      <td>[189:255](+)</td>\n",
       "      <td>[89:239](+)</td>\n",
       "      <td>forward</td>\n",
       "      <td>CGTGAGTAAATTAAAATTTTATTGACTTAGGTCACTAAATACTTTA...</td>\n",
       "      <td>1</td>\n",
       "      <td>True</td>\n",
       "    </tr>\n",
       "    <tr>\n",
       "      <th>1</th>\n",
       "      <td>['thrA']</td>\n",
       "      <td>['b0002']</td>\n",
       "      <td>[336:2799](+)</td>\n",
       "      <td>[236:386](+)</td>\n",
       "      <td>forward</td>\n",
       "      <td>AGGTAACGGTGCGGGCTGACGCGTACAGGAAACACAGAAAAAAGCC...</td>\n",
       "      <td>1</td>\n",
       "      <td>True</td>\n",
       "    </tr>\n",
       "    <tr>\n",
       "      <th>2</th>\n",
       "      <td>['thrB']</td>\n",
       "      <td>['b0003']</td>\n",
       "      <td>[2800:3733](+)</td>\n",
       "      <td>[2700:2850](+)</td>\n",
       "      <td>forward</td>\n",
       "      <td>CCGTTGGTACTGCGCGGATATGGTGCGGGCAATGACGTTACAGCTG...</td>\n",
       "      <td>1</td>\n",
       "      <td>True</td>\n",
       "    </tr>\n",
       "    <tr>\n",
       "      <th>3</th>\n",
       "      <td>['thrC']</td>\n",
       "      <td>['b0004']</td>\n",
       "      <td>[3733:5020](+)</td>\n",
       "      <td>[3633:3783](+)</td>\n",
       "      <td>forward</td>\n",
       "      <td>CGTTGCCGACTGGTTGGGTAAGAACTACCTGCAAAATCAGGAAGGT...</td>\n",
       "      <td>1</td>\n",
       "      <td>True</td>\n",
       "    </tr>\n",
       "    <tr>\n",
       "      <th>4</th>\n",
       "      <td>['yaaX']</td>\n",
       "      <td>['b0005']</td>\n",
       "      <td>[5233:5530](+)</td>\n",
       "      <td>[5133:5283](+)</td>\n",
       "      <td>forward</td>\n",
       "      <td>GTAACTTAGAGATTAGGATTGCGGAGAATAACAACCGCCGTTCTCA...</td>\n",
       "      <td>1</td>\n",
       "      <td>True</td>\n",
       "    </tr>\n",
       "    <tr>\n",
       "      <th>5</th>\n",
       "      <td>['yaaA']</td>\n",
       "      <td>['b0006']</td>\n",
       "      <td>[5682:6459](-)</td>\n",
       "      <td>[6409:6559](-)</td>\n",
       "      <td>reverse</td>\n",
       "      <td>GGACGCGTGGGATGATGTTTCGCAGGAGTAATCACAACTATCGATC...</td>\n",
       "      <td>1</td>\n",
       "      <td>True</td>\n",
       "    </tr>\n",
       "    <tr>\n",
       "      <th>6</th>\n",
       "      <td>['yaaJ']</td>\n",
       "      <td>['b0007']</td>\n",
       "      <td>[6528:7959](-)</td>\n",
       "      <td>[7909:8059](-)</td>\n",
       "      <td>reverse</td>\n",
       "      <td>ACGCAGAAGTTATCAAGTACCTCGTAGCGTATATACTTCTTAAACA...</td>\n",
       "      <td>1</td>\n",
       "      <td>True</td>\n",
       "    </tr>\n",
       "    <tr>\n",
       "      <th>7</th>\n",
       "      <td>['talB']</td>\n",
       "      <td>['b0008']</td>\n",
       "      <td>[8237:9191](+)</td>\n",
       "      <td>[8137:8287](+)</td>\n",
       "      <td>forward</td>\n",
       "      <td>ATAACCGTCTTGTCGGCGGTTGCGCTGACGTTGCGTCGTGATATCA...</td>\n",
       "      <td>1</td>\n",
       "      <td>True</td>\n",
       "    </tr>\n",
       "    <tr>\n",
       "      <th>8</th>\n",
       "      <td>['mog']</td>\n",
       "      <td>['b0009']</td>\n",
       "      <td>[9305:9893](+)</td>\n",
       "      <td>[9205:9355](+)</td>\n",
       "      <td>forward</td>\n",
       "      <td>ACCGGGAAGTCGGTCACGCTACCTCTTCTGAAGCCTGTCTGTCACT...</td>\n",
       "      <td>1</td>\n",
       "      <td>True</td>\n",
       "    </tr>\n",
       "    <tr>\n",
       "      <th>9</th>\n",
       "      <td>['satP']</td>\n",
       "      <td>['b0010']</td>\n",
       "      <td>[9927:10494](-)</td>\n",
       "      <td>[10444:10594](-)</td>\n",
       "      <td>reverse</td>\n",
       "      <td>CACTGCCCCACTGGCTGATTATTATGCCGCGCCCTGAAAACACTAC...</td>\n",
       "      <td>1</td>\n",
       "      <td>True</td>\n",
       "    </tr>\n",
       "  </tbody>\n",
       "</table>\n",
       "</div>"
      ],
      "text/plain": [
       "       Gene      Locus         Location   Sample Location Orientation  \\\n",
       "0  ['thrL']  ['b0001']     [189:255](+)       [89:239](+)     forward   \n",
       "1  ['thrA']  ['b0002']    [336:2799](+)      [236:386](+)     forward   \n",
       "2  ['thrB']  ['b0003']   [2800:3733](+)    [2700:2850](+)     forward   \n",
       "3  ['thrC']  ['b0004']   [3733:5020](+)    [3633:3783](+)     forward   \n",
       "4  ['yaaX']  ['b0005']   [5233:5530](+)    [5133:5283](+)     forward   \n",
       "5  ['yaaA']  ['b0006']   [5682:6459](-)    [6409:6559](-)     reverse   \n",
       "6  ['yaaJ']  ['b0007']   [6528:7959](-)    [7909:8059](-)     reverse   \n",
       "7  ['talB']  ['b0008']   [8237:9191](+)    [8137:8287](+)     forward   \n",
       "8   ['mog']  ['b0009']   [9305:9893](+)    [9205:9355](+)     forward   \n",
       "9  ['satP']  ['b0010']  [9927:10494](-)  [10444:10594](-)     reverse   \n",
       "\n",
       "                                            Sequence  Promoter Independent  \n",
       "0  CGTGAGTAAATTAAAATTTTATTGACTTAGGTCACTAAATACTTTA...         1        True  \n",
       "1  AGGTAACGGTGCGGGCTGACGCGTACAGGAAACACAGAAAAAAGCC...         1        True  \n",
       "2  CCGTTGGTACTGCGCGGATATGGTGCGGGCAATGACGTTACAGCTG...         1        True  \n",
       "3  CGTTGCCGACTGGTTGGGTAAGAACTACCTGCAAAATCAGGAAGGT...         1        True  \n",
       "4  GTAACTTAGAGATTAGGATTGCGGAGAATAACAACCGCCGTTCTCA...         1        True  \n",
       "5  GGACGCGTGGGATGATGTTTCGCAGGAGTAATCACAACTATCGATC...         1        True  \n",
       "6  ACGCAGAAGTTATCAAGTACCTCGTAGCGTATATACTTCTTAAACA...         1        True  \n",
       "7  ATAACCGTCTTGTCGGCGGTTGCGCTGACGTTGCGTCGTGATATCA...         1        True  \n",
       "8  ACCGGGAAGTCGGTCACGCTACCTCTTCTGAAGCCTGTCTGTCACT...         1        True  \n",
       "9  CACTGCCCCACTGGCTGATTATTATGCCGCGCCCTGAAAACACTAC...         1        True  "
      ]
     },
     "execution_count": 16,
     "metadata": {},
     "output_type": "execute_result"
    }
   ],
   "source": [
    "df.head(10)"
   ]
  },
  {
   "cell_type": "markdown",
   "metadata": {},
   "source": [
    "# Train, Validation, and Test Sets\n",
    "\n",
    "The test set will contain 830 sequences, 415 promoters and 415 non-promoters.\n",
    "\n",
    "The validation set will contain 750 sequences, 375 promoters and 375 non-promoters."
   ]
  },
  {
   "cell_type": "code",
   "execution_count": 18,
   "metadata": {},
   "outputs": [],
   "source": [
    "test_proms = df[(df.Promoter == 1) & (df.Independent == True)][:415]\n",
    "val_proms = df[(df.Promoter == 1) & (df.Independent == True)][415:415+375]\n",
    "\n",
    "test_genes = df[(df.Promoter == 0) & (df.Independent == True)][:415]\n",
    "val_genes = df[(df.Promoter == 0) & (df.Independent == True)][415:415+375]"
   ]
  },
  {
   "cell_type": "code",
   "execution_count": 19,
   "metadata": {},
   "outputs": [],
   "source": [
    "val_set = pd.concat([val_genes, val_proms])\n",
    "val_set['set'] = 'valid'\n",
    "\n",
    "test_set = pd.concat([test_genes, test_proms])\n",
    "test_set['set'] = 'test'"
   ]
  },
  {
   "cell_type": "code",
   "execution_count": 20,
   "metadata": {},
   "outputs": [],
   "source": [
    "test_val = pd.concat([val_set, test_set])"
   ]
  },
  {
   "cell_type": "code",
   "execution_count": 21,
   "metadata": {},
   "outputs": [
    {
     "name": "stderr",
     "output_type": "stream",
     "text": [
      "C:\\Users\\GATEWAY\\Anaconda2\\envs\\fastai_v1\\lib\\site-packages\\ipykernel_launcher.py:2: SettingWithCopyWarning: \n",
      "A value is trying to be set on a copy of a slice from a DataFrame.\n",
      "Try using .loc[row_indexer,col_indexer] = value instead\n",
      "\n",
      "See the caveats in the documentation: http://pandas.pydata.org/pandas-docs/stable/indexing.html#indexing-view-versus-copy\n",
      "  \n"
     ]
    }
   ],
   "source": [
    "train_data = df[~df.index.isin(test_val.index)]\n",
    "train_data['set'] = 'train'"
   ]
  },
  {
   "cell_type": "code",
   "execution_count": 22,
   "metadata": {},
   "outputs": [],
   "source": [
    "full_data = pd.concat([train_data, test_val])"
   ]
  },
  {
   "cell_type": "code",
   "execution_count": 23,
   "metadata": {},
   "outputs": [
    {
     "data": {
      "text/plain": [
       "(8371, 9)"
      ]
     },
     "execution_count": 23,
     "metadata": {},
     "output_type": "execute_result"
    }
   ],
   "source": [
    "full_data.shape"
   ]
  },
  {
   "cell_type": "code",
   "execution_count": 24,
   "metadata": {},
   "outputs": [],
   "source": [
    "full_data.to_csv(path/'e_coli_promoters_dataset.csv', index=False)"
   ]
  }
 ],
 "metadata": {
  "kernelspec": {
   "display_name": "Python 3",
   "language": "python",
   "name": "python3"
  },
  "language_info": {
   "codemirror_mode": {
    "name": "ipython",
    "version": 3
   },
   "file_extension": ".py",
   "mimetype": "text/x-python",
   "name": "python",
   "nbconvert_exporter": "python",
   "pygments_lexer": "ipython3",
   "version": "3.7.2"
  }
 },
 "nbformat": 4,
 "nbformat_minor": 2
}
