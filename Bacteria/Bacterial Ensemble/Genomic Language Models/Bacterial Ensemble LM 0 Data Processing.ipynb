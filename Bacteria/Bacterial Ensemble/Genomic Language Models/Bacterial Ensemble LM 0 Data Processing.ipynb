{
 "cells": [
  {
   "cell_type": "markdown",
   "metadata": {},
   "source": [
    "# Bacterial Ensemble Data Processing\n",
    "\n",
    "This notebook creates a language model dataset from an ensemble of bacterial genomes. This dataset will be used for unsupervised learning, so it will simply be the text of the genome.\n",
    "\n",
    "#### Data Source\n",
    "All genomes are downloaded from [NCBI](https://www.ncbi.nlm.nih.gov/genome/browse#!/overview/)"
   ]
  },
  {
   "cell_type": "code",
   "execution_count": 1,
   "metadata": {},
   "outputs": [],
   "source": [
    "%reload_ext autoreload\n",
    "%autoreload 2\n",
    "%matplotlib inline"
   ]
  },
  {
   "cell_type": "code",
   "execution_count": 2,
   "metadata": {},
   "outputs": [],
   "source": [
    "from fastai import *\n",
    "from fastai.text import *\n",
    "from Bio import Seq\n",
    "from Bio.Seq import Seq\n",
    "from Bio import SeqIO\n",
    "from Bio.SeqRecord import SeqRecord\n",
    "from Bio.SeqFeature import FeatureLocation, CompoundLocation\n",
    "import networkx as nx"
   ]
  },
  {
   "cell_type": "code",
   "execution_count": 3,
   "metadata": {},
   "outputs": [],
   "source": [
    "sys.path.append(\"../../..\")\n",
    "from utils import *"
   ]
  },
  {
   "cell_type": "code",
   "execution_count": 4,
   "metadata": {},
   "outputs": [],
   "source": [
    "path = Path('F:/genome/bacterial genomes/')"
   ]
  },
  {
   "cell_type": "markdown",
   "metadata": {},
   "source": [
    "Genome files used:"
   ]
  },
  {
   "cell_type": "code",
   "execution_count": 5,
   "metadata": {},
   "outputs": [
    {
     "data": {
      "text/plain": [
       "['Bacillus andreraoultii.fna',\n",
       " 'Bacillus cereus.fna',\n",
       " 'bacillus sp 2b10.fna',\n",
       " 'Bacillus sp EGD-AK10.fna',\n",
       " 'Bacillus sp FJAT-28004.fna',\n",
       " 'Bacillus sp L_1B0_5.fna',\n",
       " 'Bacillus sp MBGLi97.fna',\n",
       " 'Bacillus sp MYb78.fna',\n",
       " 'Bacillus sp OV166.fna',\n",
       " 'Bacillus thuringiensis.fna',\n",
       " 'Clostridium sp ASF502.fna',\n",
       " 'Clostridium sp DL-VIII.fna',\n",
       " 'Corynebacterium diphtheriae.fna',\n",
       " 'Corynebacterium sp 13CS0277.fna',\n",
       " 'Corynebacterium sp CNJ-954.fna',\n",
       " 'Corynebacterium sp J010B-136.fna',\n",
       " 'Corynebacterium sp JB4.fna',\n",
       " 'Corynebacterium sp Marseille-P2417.fna',\n",
       " 'Corynebacterium sp YIM 101343.fna',\n",
       " 'Corynebacterium striatum.fna',\n",
       " 'Escherichia albertii.fna',\n",
       " 'Escherichia coli.fna',\n",
       " 'Escherichia fergusonii.fna',\n",
       " 'Escherichia marmotae.fna',\n",
       " 'Escherichia sp KTE172.fna',\n",
       " 'Escherichia sp MOD1-EC2449.fna',\n",
       " 'Escherichia sp MOD1-EC4516.fna',\n",
       " 'Escherichia sp MOD1-EC4560.fna',\n",
       " 'Escherichia sp R11.fna',\n",
       " 'Escherichia sp R14.fna',\n",
       " 'Escherichia sp R15.fna',\n",
       " 'Escherichia sp r18.fna',\n",
       " 'Escherichia sp R4.fna',\n",
       " 'Klebsiella pneumoniae.fna',\n",
       " 'Listeria monocytogenes.fna',\n",
       " 'Mumia flava.fna',\n",
       " 'Paenibacillus sp FSL H7-0331.fna',\n",
       " 'Planktothrix paucivesiculata.fna',\n",
       " 'Pseudomonas aeruginosa.fna',\n",
       " 'Pseudomonas sp 22 E 5.fna',\n",
       " 'Pseudomonas sp 286.fna',\n",
       " 'Pseudomonas sp HMWF031.fna',\n",
       " 'Rhizobium sp CF142.fna',\n",
       " 'Rhizobium sp WW_1.fna',\n",
       " 'Salmonella bongori.fna',\n",
       " 'Salmonella enterica.fna',\n",
       " 'Shigella sonnei.fna',\n",
       " 'Staphylococcus aureus.fna',\n",
       " 'Staphylococcus epidermidis.fna',\n",
       " 'Stenotrophomonas maltophilia.fna',\n",
       " 'Streptococcus acidominimus.fna',\n",
       " 'Streptococcus pneumoniae.fna',\n",
       " 'Streptococcus sobrinus.fna',\n",
       " 'Streptococcus sp.fna',\n",
       " 'Streptococcus suis.fna',\n",
       " 'Streptomyces albidoflavus.fna',\n",
       " 'Streptomyces griseus.fna',\n",
       " 'Vibrio sp BEI207.fna',\n",
       " 'Vibrio sp C7.fna',\n",
       " 'Vibrio sp ER1A.fna']"
      ]
     },
     "execution_count": 5,
     "metadata": {},
     "output_type": "execute_result"
    }
   ],
   "source": [
    "os.listdir(path/'genome_fastas')"
   ]
  },
  {
   "cell_type": "code",
   "execution_count": null,
   "metadata": {},
   "outputs": [],
   "source": []
  },
  {
   "cell_type": "code",
   "execution_count": 6,
   "metadata": {},
   "outputs": [],
   "source": [
    "valid_pct = 0.1\n",
    "dfs_trn = []\n",
    "dfs_val = []\n",
    "for file in os.listdir(path/'genome_fastas'):\n",
    "    source = file.split('.')[0]\n",
    "    \n",
    "    data = process_fasta(path/'genome_fastas'/file, 2000, 900)\n",
    "    \n",
    "    df = pd.DataFrame(data, columns=['Sequence'])\n",
    "    df['Source'] = source\n",
    "    cut = int((1-valid_pct) * len(df)) + 1\n",
    "    train_df, valid_df = df[:cut], df[cut:]\n",
    "    dfs_trn.append(train_df)\n",
    "    dfs_val.append(valid_df)\n",
    "\n",
    "df_trn = pd.concat(dfs_trn)\n",
    "df_trn['set'] = 'train'\n",
    "df_val = pd.concat(dfs_val)\n",
    "df_val['set'] = 'valid'\n",
    "\n",
    "data_df = pd.concat(dfs_trn+dfs_val)\n",
    "data_df.reset_index(inplace=True, drop=True)\n",
    "data_df.to_csv(path/'bacterial_data.csv', index=False)"
   ]
  },
  {
   "cell_type": "code",
   "execution_count": 7,
   "metadata": {},
   "outputs": [
    {
     "data": {
      "text/html": [
       "<div>\n",
       "<style scoped>\n",
       "    .dataframe tbody tr th:only-of-type {\n",
       "        vertical-align: middle;\n",
       "    }\n",
       "\n",
       "    .dataframe tbody tr th {\n",
       "        vertical-align: top;\n",
       "    }\n",
       "\n",
       "    .dataframe thead th {\n",
       "        text-align: right;\n",
       "    }\n",
       "</style>\n",
       "<table border=\"1\" class=\"dataframe\">\n",
       "  <thead>\n",
       "    <tr style=\"text-align: right;\">\n",
       "      <th></th>\n",
       "      <th>Sequence</th>\n",
       "      <th>Source</th>\n",
       "    </tr>\n",
       "  </thead>\n",
       "  <tbody>\n",
       "    <tr>\n",
       "      <th>0</th>\n",
       "      <td>AGACGCTCTATCCAATTGAGCTACGGGCGCATATAAATGGTGCCGA...</td>\n",
       "      <td>Bacillus andreraoultii</td>\n",
       "    </tr>\n",
       "    <tr>\n",
       "      <th>1</th>\n",
       "      <td>TATAGGAATTGTATTTACGGGATTTCCGCATAAATTTTACACATTT...</td>\n",
       "      <td>Bacillus andreraoultii</td>\n",
       "    </tr>\n",
       "    <tr>\n",
       "      <th>2</th>\n",
       "      <td>AAGTCAATGATTATCTTCCAACGAAAGTCCGGGTTTTATCGTCTAT...</td>\n",
       "      <td>Bacillus andreraoultii</td>\n",
       "    </tr>\n",
       "    <tr>\n",
       "      <th>3</th>\n",
       "      <td>CATGAGCTAGCGAAATCGCACTTTCGAGTAGAACGTGAACAGACGT...</td>\n",
       "      <td>Bacillus andreraoultii</td>\n",
       "    </tr>\n",
       "    <tr>\n",
       "      <th>4</th>\n",
       "      <td>TAAATGGTTTAATTAACTATAACATACTTGACCTTGCGAAAAAAAC...</td>\n",
       "      <td>Bacillus andreraoultii</td>\n",
       "    </tr>\n",
       "  </tbody>\n",
       "</table>\n",
       "</div>"
      ],
      "text/plain": [
       "                                            Sequence                  Source\n",
       "0  AGACGCTCTATCCAATTGAGCTACGGGCGCATATAAATGGTGCCGA...  Bacillus andreraoultii\n",
       "1  TATAGGAATTGTATTTACGGGATTTCCGCATAAATTTTACACATTT...  Bacillus andreraoultii\n",
       "2  AAGTCAATGATTATCTTCCAACGAAAGTCCGGGTTTTATCGTCTAT...  Bacillus andreraoultii\n",
       "3  CATGAGCTAGCGAAATCGCACTTTCGAGTAGAACGTGAACAGACGT...  Bacillus andreraoultii\n",
       "4  TAAATGGTTTAATTAACTATAACATACTTGACCTTGCGAAAAAAAC...  Bacillus andreraoultii"
      ]
     },
     "execution_count": 7,
     "metadata": {},
     "output_type": "execute_result"
    }
   ],
   "source": [
    "data_df.head()"
   ]
  },
  {
   "cell_type": "code",
   "execution_count": 8,
   "metadata": {},
   "outputs": [
    {
     "data": {
      "text/plain": [
       "(371831, 2)"
      ]
     },
     "execution_count": 8,
     "metadata": {},
     "output_type": "execute_result"
    }
   ],
   "source": [
    "data_df.shape"
   ]
  },
  {
   "cell_type": "code",
   "execution_count": null,
   "metadata": {},
   "outputs": [],
   "source": []
  }
 ],
 "metadata": {
  "kernelspec": {
   "display_name": "Python 3",
   "language": "python",
   "name": "python3"
  },
  "language_info": {
   "codemirror_mode": {
    "name": "ipython",
    "version": 3
   },
   "file_extension": ".py",
   "mimetype": "text/x-python",
   "name": "python",
   "nbconvert_exporter": "python",
   "pygments_lexer": "ipython3",
   "version": "3.7.2"
  }
 },
 "nbformat": 4,
 "nbformat_minor": 2
}
